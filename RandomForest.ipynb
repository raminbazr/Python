{
  "nbformat": 4,
  "nbformat_minor": 0,
  "metadata": {
    "colab": {
      "provenance": [],
      "authorship_tag": "ABX9TyMGr0BfHHN9xq09cK1rhP4G",
      "include_colab_link": true
    },
    "kernelspec": {
      "name": "python3",
      "display_name": "Python 3"
    },
    "language_info": {
      "name": "python"
    }
  },
  "cells": [
    {
      "cell_type": "markdown",
      "metadata": {
        "id": "view-in-github",
        "colab_type": "text"
      },
      "source": [
        "<a href=\"https://colab.research.google.com/github/raminbazr/Python/blob/main/RandomForest.ipynb\" target=\"_parent\"><img src=\"https://colab.research.google.com/assets/colab-badge.svg\" alt=\"Open In Colab\"/></a>"
      ]
    },
    {
      "cell_type": "markdown",
      "source": [
        "# **Random Forest**"
      ],
      "metadata": {
        "id": "UuPpS9Oo_JpU"
      }
    },
    {
      "cell_type": "code",
      "execution_count": null,
      "metadata": {
        "id": "MnKdUuBH_I06"
      },
      "outputs": [],
      "source": [
        "from sklearn.ensemble import RandomForestRegressor\n",
        "\n",
        "# Instantiate model with 1000 decision trees\n",
        "rf = RandomForestRegressor(n_estimators = 1000, random_state=42)\n",
        "# Train the model on training data\n",
        "rf.fit(X_train,y_train)"
      ]
    },
    {
      "cell_type": "code",
      "source": [
        "y_forest = rf.predict(X_test)\n",
        "y_forest"
      ],
      "metadata": {
        "id": "I7ABlWWA_PMK"
      },
      "execution_count": null,
      "outputs": []
    },
    {
      "cell_type": "code",
      "source": [
        "# RMSE (Root Mean Square Error)\n",
        "rmse = float(format(np.sqrt(mean_squared_error(y_test, y_forest)),'.3f'))\n",
        "print(\"RMSE:\",rmse)"
      ],
      "metadata": {
        "id": "DaKFxX8l_Qyc"
      },
      "execution_count": null,
      "outputs": []
    },
    {
      "cell_type": "code",
      "source": [
        "#NRMSE\n",
        "NRMSE = (rmse/(y_test.max()-y_test.min()))*100\n",
        "NRMSE"
      ],
      "metadata": {
        "id": "aJ3nBFmU_Sdq"
      },
      "execution_count": null,
      "outputs": []
    },
    {
      "cell_type": "code",
      "source": [
        "from sklearn.metrics import mean_absolute_error\n",
        "mae = mean_absolute_error(y_test, y_forest)\n",
        "mae\n",
        "#rangedata = y_train.max() - y_train.min()\n",
        "#print (rangedata)"
      ],
      "metadata": {
        "id": "gGSmFaOr_UFB"
      },
      "execution_count": null,
      "outputs": []
    },
    {
      "cell_type": "code",
      "source": [
        "#NaME\n",
        "NMAE = (mae/(y_test.max()-y_test.min()))*100\n",
        "NMAE"
      ],
      "metadata": {
        "id": "m22fjrwT_V_S"
      },
      "execution_count": null,
      "outputs": []
    },
    {
      "cell_type": "code",
      "source": [
        "from sklearn.metrics import mean_absolute_percentage_error\n",
        "mean_absolute_percentage_error(y_test1,y_forest)*100"
      ],
      "metadata": {
        "id": "3Nb7wU2X_Xqq"
      },
      "execution_count": null,
      "outputs": []
    },
    {
      "cell_type": "code",
      "source": [
        "#Reshape\n",
        "y_forest = np.reshape(y_forest,(-1,1))\n",
        "y_forest = scaler_y.inverse_transform(y_forest)"
      ],
      "metadata": {
        "id": "4H2f2TsM_Zp6"
      },
      "execution_count": null,
      "outputs": []
    },
    {
      "cell_type": "code",
      "source": [
        "#Reshape\n",
        "y_test = np.reshape(y_test,(-1,1))\n",
        "y_test = scaler_y.inverse_transform(y_test)"
      ],
      "metadata": {
        "id": "d6D_qAY__bO7"
      },
      "execution_count": null,
      "outputs": []
    },
    {
      "cell_type": "code",
      "source": [
        "xd = np.linspace(0,2,143)\n",
        "plt.scatter(X_test[:,0],y_forest, color = 'red', label= \"Predicted ROPc\")\n",
        "plt.scatter(X_test[:,0],y_test1, color = 'blue', label = \"Real value ROP\")\n",
        "plt.xlabel('')\n",
        "plt.ylabel('ROPc')\n",
        "plt.title(\"Scatter Plot for Real Ropc and predicted\",fontsize=15)\n",
        "plt.legend(loc='upper right',fontsize =8)"
      ],
      "metadata": {
        "id": "bmJO67cR_dcq"
      },
      "execution_count": null,
      "outputs": []
    }
  ]
}