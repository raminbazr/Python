{
  "nbformat": 4,
  "nbformat_minor": 0,
  "metadata": {
    "colab": {
      "provenance": [],
      "authorship_tag": "ABX9TyOg3/sLbIEIaJr+eeNYoBAH",
      "include_colab_link": true
    },
    "kernelspec": {
      "name": "python3",
      "display_name": "Python 3"
    },
    "language_info": {
      "name": "python"
    }
  },
  "cells": [
    {
      "cell_type": "markdown",
      "metadata": {
        "id": "view-in-github",
        "colab_type": "text"
      },
      "source": [
        "<a href=\"https://colab.research.google.com/github/raminbazr/Python/blob/main/SVR.ipynb\" target=\"_parent\"><img src=\"https://colab.research.google.com/assets/colab-badge.svg\" alt=\"Open In Colab\"/></a>"
      ]
    },
    {
      "cell_type": "markdown",
      "source": [
        "# **SVR**"
      ],
      "metadata": {
        "id": "l6V6pBPsxipN"
      }
    },
    {
      "cell_type": "code",
      "execution_count": null,
      "metadata": {
        "id": "aFxOiiglxfh_"
      },
      "outputs": [],
      "source": [
        "from sklearn.svm import SVR\n",
        "from sklearn.metrics import mean_squared_error\n",
        "from sklearn.model_selection import GridSearchCV\n",
        " \n",
        "# defining parameter range\n",
        "param_grid = {'C': [0.1, 1, 10, 100, 1000],\n",
        "              'gamma': [1, 0.1, 0.01, 0.001, 0.0001],\n",
        "              'kernel': ['rbf']}\n",
        " \n",
        "grid = GridSearchCV(SVR(), param_grid, refit = True, verbose = 3)\n",
        " \n",
        "# fitting the model for grid search\n",
        "grid.fit(X_train, y_train)\n",
        "\n",
        "#svr = SVR(kernel = \"rbf\").fit(x,y)\n",
        "#print(svr)"
      ]
    },
    {
      "cell_type": "code",
      "source": [
        "# print best parameter after tuning\n",
        "print(grid.best_params_)\n",
        " \n",
        "# print how our model looks after hyper-parameter tuning\n",
        "print(grid.best_estimator_)"
      ],
      "metadata": {
        "id": "3giHsWpixnIr"
      },
      "execution_count": null,
      "outputs": []
    },
    {
      "cell_type": "code",
      "source": [
        "grid_predictions = grid.predict(X_test)\n",
        "grid_predictions"
      ],
      "metadata": {
        "id": "MgSxsCR0xpSj"
      },
      "execution_count": null,
      "outputs": []
    },
    {
      "cell_type": "code",
      "source": [
        "from sklearn.metrics import mean_squared_error\n",
        "mse = mean_squared_error(y_test,grid_predictions)\n",
        "mse"
      ],
      "metadata": {
        "id": "47J1r2ysxrC7"
      },
      "execution_count": null,
      "outputs": []
    },
    {
      "cell_type": "code",
      "source": [
        "RMSE = np.sqrt(mse)\n",
        "RMSE"
      ],
      "metadata": {
        "id": "2AoWB7r_xtU7"
      },
      "execution_count": null,
      "outputs": []
    },
    {
      "cell_type": "code",
      "source": [
        "NRMSE = (RMSE/(y_test.max()-y_test.min()))*100\n",
        "NRMSE"
      ],
      "metadata": {
        "id": "0CCNu-IAxu6T"
      },
      "execution_count": null,
      "outputs": []
    },
    {
      "cell_type": "code",
      "source": [
        "from sklearn.metrics import mean_absolute_error\n",
        "mae = mean_absolute_error (y_test,grid_predictions)\n",
        "mae"
      ],
      "metadata": {
        "id": "vZdNDkraxxOL"
      },
      "execution_count": null,
      "outputs": []
    },
    {
      "cell_type": "code",
      "source": [
        "NMAE = (mae/(y_test.max()-y_test.min()))*100\n",
        "NMAE"
      ],
      "metadata": {
        "id": "K896Anxmxy4L"
      },
      "execution_count": null,
      "outputs": []
    },
    {
      "cell_type": "code",
      "source": [
        "#Reshape\n",
        "grid_predictions1 = np.reshape(grid_predictions,(-1,1))\n",
        "grid_predictions1= scaler_y.inverse_transform(grid_predictions1)"
      ],
      "metadata": {
        "id": "3kLL75I9x0qc"
      },
      "execution_count": null,
      "outputs": []
    },
    {
      "cell_type": "code",
      "source": [
        "plt.scatter(X_test[:,0],grid_predictions1, color = 'red', label= \"Predicted ROPc\")\n",
        "plt.scatter(X_test[:,0],y_test1, color = 'blue', label = \"Real value ROP\")\n",
        "plt.xlabel('')\n",
        "plt.ylabel('ROPc')\n",
        "plt.title(\"Scatter Plot for Real Ropc and predicted\",fontsize=15)\n",
        "plt.legend(loc='upper right',fontsize =9)"
      ],
      "metadata": {
        "id": "Hr8vWrHPx2h0"
      },
      "execution_count": null,
      "outputs": []
    },
    {
      "cell_type": "code",
      "source": [
        "from sklearn.metrics import mean_absolute_error\n",
        "mean_absolute_error(y_test,predictROPc)"
      ],
      "metadata": {
        "id": "ARN3Y5APx50s"
      },
      "execution_count": null,
      "outputs": []
    },
    {
      "cell_type": "code",
      "source": [
        "from sklearn.metrics import mean_absolute_percentage_error\n",
        "mean_absolute_percentage_error(y_test,predictROPc)"
      ],
      "metadata": {
        "id": "zdQRi4HUx6QT"
      },
      "execution_count": null,
      "outputs": []
    }
  ]
}