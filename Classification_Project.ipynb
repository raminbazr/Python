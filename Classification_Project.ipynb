{
  "nbformat": 4,
  "nbformat_minor": 0,
  "metadata": {
    "colab": {
      "provenance": [],
      "toc_visible": true,
      "authorship_tag": "ABX9TyPictZ4H9azAKmn+xaxf03z",
      "include_colab_link": true
    },
    "kernelspec": {
      "name": "python3",
      "display_name": "Python 3"
    },
    "language_info": {
      "name": "python"
    }
  },
  "cells": [
    {
      "cell_type": "markdown",
      "metadata": {
        "id": "view-in-github",
        "colab_type": "text"
      },
      "source": [
        "<a href=\"https://colab.research.google.com/github/raminbazr/Python/blob/main/Classification_Project.ipynb\" target=\"_parent\"><img src=\"https://colab.research.google.com/assets/colab-badge.svg\" alt=\"Open In Colab\"/></a>"
      ]
    },
    {
      "cell_type": "code",
      "execution_count": null,
      "metadata": {
        "id": "LjhY-oNV0440"
      },
      "outputs": [],
      "source": [
        "import pandas as pd\n",
        "import numpy as np"
      ]
    },
    {
      "cell_type": "code",
      "source": [
        "df = pd.read_excel(r\"/content/SampleData_Eval.xlsx\")"
      ],
      "metadata": {
        "id": "a3q4ULW81Bdi"
      },
      "execution_count": null,
      "outputs": []
    },
    {
      "cell_type": "code",
      "source": [
        "df.head()"
      ],
      "metadata": {
        "colab": {
          "base_uri": "https://localhost:8080/",
          "height": 310
        },
        "id": "ga7-kjPs1fda",
        "outputId": "ed9fd72c-2986-41d3-a339-2b43bb9dfeb7"
      },
      "execution_count": null,
      "outputs": [
        {
          "output_type": "execute_result",
          "data": {
            "text/plain": [
              "   Row  Drug 1 (mg)  Drug 2 (mg)  Main Disease Status  Family Size  Age  \\\n",
              "0    0   143.266667   154.600000                    1            1   50   \n",
              "1    1   126.666667   157.033333                    1            2   56   \n",
              "2    2   109.333333   118.266667                    1            3   62   \n",
              "3    3   104.533333   113.266667                    1            2   66   \n",
              "4    4    95.700000   109.666667                    1            2   61   \n",
              "\n",
              "   Severity of the Relevant Disease      Surgery Smoking Status  Pack-year  \\\n",
              "0                                  4  No Surgery         Former       30.0   \n",
              "1                                  4  No Surgery          Never        0.0   \n",
              "2                                  4      Site 1         Former        0.0   \n",
              "3                                  4  No Surgery          Never        0.0   \n",
              "4                                  3      Site 2          Never        0.0   \n",
              "\n",
              "  Diet Type Gender             Race  \n",
              "0         B   Male  White/Caucasian  \n",
              "1         B   Male              NaN  \n",
              "2         A   Male              NaN  \n",
              "3         B   Male  White/Caucasian  \n",
              "4         B   Male  White/Caucasian  "
            ],
            "text/html": [
              "\n",
              "  <div id=\"df-bf0fa546-8587-4863-8bd3-af0232ff754e\" class=\"colab-df-container\">\n",
              "    <div>\n",
              "<style scoped>\n",
              "    .dataframe tbody tr th:only-of-type {\n",
              "        vertical-align: middle;\n",
              "    }\n",
              "\n",
              "    .dataframe tbody tr th {\n",
              "        vertical-align: top;\n",
              "    }\n",
              "\n",
              "    .dataframe thead th {\n",
              "        text-align: right;\n",
              "    }\n",
              "</style>\n",
              "<table border=\"1\" class=\"dataframe\">\n",
              "  <thead>\n",
              "    <tr style=\"text-align: right;\">\n",
              "      <th></th>\n",
              "      <th>Row</th>\n",
              "      <th>Drug 1 (mg)</th>\n",
              "      <th>Drug 2 (mg)</th>\n",
              "      <th>Main Disease Status</th>\n",
              "      <th>Family Size</th>\n",
              "      <th>Age</th>\n",
              "      <th>Severity of the Relevant Disease</th>\n",
              "      <th>Surgery</th>\n",
              "      <th>Smoking Status</th>\n",
              "      <th>Pack-year</th>\n",
              "      <th>Diet Type</th>\n",
              "      <th>Gender</th>\n",
              "      <th>Race</th>\n",
              "    </tr>\n",
              "  </thead>\n",
              "  <tbody>\n",
              "    <tr>\n",
              "      <th>0</th>\n",
              "      <td>0</td>\n",
              "      <td>143.266667</td>\n",
              "      <td>154.600000</td>\n",
              "      <td>1</td>\n",
              "      <td>1</td>\n",
              "      <td>50</td>\n",
              "      <td>4</td>\n",
              "      <td>No Surgery</td>\n",
              "      <td>Former</td>\n",
              "      <td>30.0</td>\n",
              "      <td>B</td>\n",
              "      <td>Male</td>\n",
              "      <td>White/Caucasian</td>\n",
              "    </tr>\n",
              "    <tr>\n",
              "      <th>1</th>\n",
              "      <td>1</td>\n",
              "      <td>126.666667</td>\n",
              "      <td>157.033333</td>\n",
              "      <td>1</td>\n",
              "      <td>2</td>\n",
              "      <td>56</td>\n",
              "      <td>4</td>\n",
              "      <td>No Surgery</td>\n",
              "      <td>Never</td>\n",
              "      <td>0.0</td>\n",
              "      <td>B</td>\n",
              "      <td>Male</td>\n",
              "      <td>NaN</td>\n",
              "    </tr>\n",
              "    <tr>\n",
              "      <th>2</th>\n",
              "      <td>2</td>\n",
              "      <td>109.333333</td>\n",
              "      <td>118.266667</td>\n",
              "      <td>1</td>\n",
              "      <td>3</td>\n",
              "      <td>62</td>\n",
              "      <td>4</td>\n",
              "      <td>Site 1</td>\n",
              "      <td>Former</td>\n",
              "      <td>0.0</td>\n",
              "      <td>A</td>\n",
              "      <td>Male</td>\n",
              "      <td>NaN</td>\n",
              "    </tr>\n",
              "    <tr>\n",
              "      <th>3</th>\n",
              "      <td>3</td>\n",
              "      <td>104.533333</td>\n",
              "      <td>113.266667</td>\n",
              "      <td>1</td>\n",
              "      <td>2</td>\n",
              "      <td>66</td>\n",
              "      <td>4</td>\n",
              "      <td>No Surgery</td>\n",
              "      <td>Never</td>\n",
              "      <td>0.0</td>\n",
              "      <td>B</td>\n",
              "      <td>Male</td>\n",
              "      <td>White/Caucasian</td>\n",
              "    </tr>\n",
              "    <tr>\n",
              "      <th>4</th>\n",
              "      <td>4</td>\n",
              "      <td>95.700000</td>\n",
              "      <td>109.666667</td>\n",
              "      <td>1</td>\n",
              "      <td>2</td>\n",
              "      <td>61</td>\n",
              "      <td>3</td>\n",
              "      <td>Site 2</td>\n",
              "      <td>Never</td>\n",
              "      <td>0.0</td>\n",
              "      <td>B</td>\n",
              "      <td>Male</td>\n",
              "      <td>White/Caucasian</td>\n",
              "    </tr>\n",
              "  </tbody>\n",
              "</table>\n",
              "</div>\n",
              "    <div class=\"colab-df-buttons\">\n",
              "\n",
              "  <div class=\"colab-df-container\">\n",
              "    <button class=\"colab-df-convert\" onclick=\"convertToInteractive('df-bf0fa546-8587-4863-8bd3-af0232ff754e')\"\n",
              "            title=\"Convert this dataframe to an interactive table.\"\n",
              "            style=\"display:none;\">\n",
              "\n",
              "  <svg xmlns=\"http://www.w3.org/2000/svg\" height=\"24px\" viewBox=\"0 -960 960 960\">\n",
              "    <path d=\"M120-120v-720h720v720H120Zm60-500h600v-160H180v160Zm220 220h160v-160H400v160Zm0 220h160v-160H400v160ZM180-400h160v-160H180v160Zm440 0h160v-160H620v160ZM180-180h160v-160H180v160Zm440 0h160v-160H620v160Z\"/>\n",
              "  </svg>\n",
              "    </button>\n",
              "\n",
              "  <style>\n",
              "    .colab-df-container {\n",
              "      display:flex;\n",
              "      gap: 12px;\n",
              "    }\n",
              "\n",
              "    .colab-df-convert {\n",
              "      background-color: #E8F0FE;\n",
              "      border: none;\n",
              "      border-radius: 50%;\n",
              "      cursor: pointer;\n",
              "      display: none;\n",
              "      fill: #1967D2;\n",
              "      height: 32px;\n",
              "      padding: 0 0 0 0;\n",
              "      width: 32px;\n",
              "    }\n",
              "\n",
              "    .colab-df-convert:hover {\n",
              "      background-color: #E2EBFA;\n",
              "      box-shadow: 0px 1px 2px rgba(60, 64, 67, 0.3), 0px 1px 3px 1px rgba(60, 64, 67, 0.15);\n",
              "      fill: #174EA6;\n",
              "    }\n",
              "\n",
              "    .colab-df-buttons div {\n",
              "      margin-bottom: 4px;\n",
              "    }\n",
              "\n",
              "    [theme=dark] .colab-df-convert {\n",
              "      background-color: #3B4455;\n",
              "      fill: #D2E3FC;\n",
              "    }\n",
              "\n",
              "    [theme=dark] .colab-df-convert:hover {\n",
              "      background-color: #434B5C;\n",
              "      box-shadow: 0px 1px 3px 1px rgba(0, 0, 0, 0.15);\n",
              "      filter: drop-shadow(0px 1px 2px rgba(0, 0, 0, 0.3));\n",
              "      fill: #FFFFFF;\n",
              "    }\n",
              "  </style>\n",
              "\n",
              "    <script>\n",
              "      const buttonEl =\n",
              "        document.querySelector('#df-bf0fa546-8587-4863-8bd3-af0232ff754e button.colab-df-convert');\n",
              "      buttonEl.style.display =\n",
              "        google.colab.kernel.accessAllowed ? 'block' : 'none';\n",
              "\n",
              "      async function convertToInteractive(key) {\n",
              "        const element = document.querySelector('#df-bf0fa546-8587-4863-8bd3-af0232ff754e');\n",
              "        const dataTable =\n",
              "          await google.colab.kernel.invokeFunction('convertToInteractive',\n",
              "                                                    [key], {});\n",
              "        if (!dataTable) return;\n",
              "\n",
              "        const docLinkHtml = 'Like what you see? Visit the ' +\n",
              "          '<a target=\"_blank\" href=https://colab.research.google.com/notebooks/data_table.ipynb>data table notebook</a>'\n",
              "          + ' to learn more about interactive tables.';\n",
              "        element.innerHTML = '';\n",
              "        dataTable['output_type'] = 'display_data';\n",
              "        await google.colab.output.renderOutput(dataTable, element);\n",
              "        const docLink = document.createElement('div');\n",
              "        docLink.innerHTML = docLinkHtml;\n",
              "        element.appendChild(docLink);\n",
              "      }\n",
              "    </script>\n",
              "  </div>\n",
              "\n",
              "\n",
              "<div id=\"df-1b63103c-6ec6-40fc-b152-5567f93fa83d\">\n",
              "  <button class=\"colab-df-quickchart\" onclick=\"quickchart('df-1b63103c-6ec6-40fc-b152-5567f93fa83d')\"\n",
              "            title=\"Suggest charts\"\n",
              "            style=\"display:none;\">\n",
              "\n",
              "<svg xmlns=\"http://www.w3.org/2000/svg\" height=\"24px\"viewBox=\"0 0 24 24\"\n",
              "     width=\"24px\">\n",
              "    <g>\n",
              "        <path d=\"M19 3H5c-1.1 0-2 .9-2 2v14c0 1.1.9 2 2 2h14c1.1 0 2-.9 2-2V5c0-1.1-.9-2-2-2zM9 17H7v-7h2v7zm4 0h-2V7h2v10zm4 0h-2v-4h2v4z\"/>\n",
              "    </g>\n",
              "</svg>\n",
              "  </button>\n",
              "\n",
              "<style>\n",
              "  .colab-df-quickchart {\n",
              "      --bg-color: #E8F0FE;\n",
              "      --fill-color: #1967D2;\n",
              "      --hover-bg-color: #E2EBFA;\n",
              "      --hover-fill-color: #174EA6;\n",
              "      --disabled-fill-color: #AAA;\n",
              "      --disabled-bg-color: #DDD;\n",
              "  }\n",
              "\n",
              "  [theme=dark] .colab-df-quickchart {\n",
              "      --bg-color: #3B4455;\n",
              "      --fill-color: #D2E3FC;\n",
              "      --hover-bg-color: #434B5C;\n",
              "      --hover-fill-color: #FFFFFF;\n",
              "      --disabled-bg-color: #3B4455;\n",
              "      --disabled-fill-color: #666;\n",
              "  }\n",
              "\n",
              "  .colab-df-quickchart {\n",
              "    background-color: var(--bg-color);\n",
              "    border: none;\n",
              "    border-radius: 50%;\n",
              "    cursor: pointer;\n",
              "    display: none;\n",
              "    fill: var(--fill-color);\n",
              "    height: 32px;\n",
              "    padding: 0;\n",
              "    width: 32px;\n",
              "  }\n",
              "\n",
              "  .colab-df-quickchart:hover {\n",
              "    background-color: var(--hover-bg-color);\n",
              "    box-shadow: 0 1px 2px rgba(60, 64, 67, 0.3), 0 1px 3px 1px rgba(60, 64, 67, 0.15);\n",
              "    fill: var(--button-hover-fill-color);\n",
              "  }\n",
              "\n",
              "  .colab-df-quickchart-complete:disabled,\n",
              "  .colab-df-quickchart-complete:disabled:hover {\n",
              "    background-color: var(--disabled-bg-color);\n",
              "    fill: var(--disabled-fill-color);\n",
              "    box-shadow: none;\n",
              "  }\n",
              "\n",
              "  .colab-df-spinner {\n",
              "    border: 2px solid var(--fill-color);\n",
              "    border-color: transparent;\n",
              "    border-bottom-color: var(--fill-color);\n",
              "    animation:\n",
              "      spin 1s steps(1) infinite;\n",
              "  }\n",
              "\n",
              "  @keyframes spin {\n",
              "    0% {\n",
              "      border-color: transparent;\n",
              "      border-bottom-color: var(--fill-color);\n",
              "      border-left-color: var(--fill-color);\n",
              "    }\n",
              "    20% {\n",
              "      border-color: transparent;\n",
              "      border-left-color: var(--fill-color);\n",
              "      border-top-color: var(--fill-color);\n",
              "    }\n",
              "    30% {\n",
              "      border-color: transparent;\n",
              "      border-left-color: var(--fill-color);\n",
              "      border-top-color: var(--fill-color);\n",
              "      border-right-color: var(--fill-color);\n",
              "    }\n",
              "    40% {\n",
              "      border-color: transparent;\n",
              "      border-right-color: var(--fill-color);\n",
              "      border-top-color: var(--fill-color);\n",
              "    }\n",
              "    60% {\n",
              "      border-color: transparent;\n",
              "      border-right-color: var(--fill-color);\n",
              "    }\n",
              "    80% {\n",
              "      border-color: transparent;\n",
              "      border-right-color: var(--fill-color);\n",
              "      border-bottom-color: var(--fill-color);\n",
              "    }\n",
              "    90% {\n",
              "      border-color: transparent;\n",
              "      border-bottom-color: var(--fill-color);\n",
              "    }\n",
              "  }\n",
              "</style>\n",
              "\n",
              "  <script>\n",
              "    async function quickchart(key) {\n",
              "      const quickchartButtonEl =\n",
              "        document.querySelector('#' + key + ' button');\n",
              "      quickchartButtonEl.disabled = true;  // To prevent multiple clicks.\n",
              "      quickchartButtonEl.classList.add('colab-df-spinner');\n",
              "      try {\n",
              "        const charts = await google.colab.kernel.invokeFunction(\n",
              "            'suggestCharts', [key], {});\n",
              "      } catch (error) {\n",
              "        console.error('Error during call to suggestCharts:', error);\n",
              "      }\n",
              "      quickchartButtonEl.classList.remove('colab-df-spinner');\n",
              "      quickchartButtonEl.classList.add('colab-df-quickchart-complete');\n",
              "    }\n",
              "    (() => {\n",
              "      let quickchartButtonEl =\n",
              "        document.querySelector('#df-1b63103c-6ec6-40fc-b152-5567f93fa83d button');\n",
              "      quickchartButtonEl.style.display =\n",
              "        google.colab.kernel.accessAllowed ? 'block' : 'none';\n",
              "    })();\n",
              "  </script>\n",
              "</div>\n",
              "    </div>\n",
              "  </div>\n"
            ]
          },
          "metadata": {},
          "execution_count": 50
        }
      ]
    },
    {
      "cell_type": "code",
      "source": [
        "df[\"Gender\"].unique()"
      ],
      "metadata": {
        "colab": {
          "base_uri": "https://localhost:8080/"
        },
        "id": "r6VdKoyNLHnr",
        "outputId": "fb42fa01-8fd9-47b2-a2e0-6ff08e9e8598"
      },
      "execution_count": null,
      "outputs": [
        {
          "output_type": "execute_result",
          "data": {
            "text/plain": [
              "array(['Male', 'Female'], dtype=object)"
            ]
          },
          "metadata": {},
          "execution_count": 144
        }
      ]
    },
    {
      "cell_type": "code",
      "source": [
        "df[\"Surgery\"].unique()"
      ],
      "metadata": {
        "colab": {
          "base_uri": "https://localhost:8080/"
        },
        "id": "cFqxjN7B1_Vq",
        "outputId": "01f8c818-9536-49b8-be28-1f382abc379c"
      },
      "execution_count": null,
      "outputs": [
        {
          "output_type": "execute_result",
          "data": {
            "text/plain": [
              "array(['No Surgery', 'Site 1', 'Site 2', 'Site 4', 'Site 3'], dtype=object)"
            ]
          },
          "metadata": {},
          "execution_count": 51
        }
      ]
    },
    {
      "cell_type": "code",
      "source": [
        "df[\"Smoking Status\"].unique()"
      ],
      "metadata": {
        "colab": {
          "base_uri": "https://localhost:8080/"
        },
        "id": "riRtC-IX2LGx",
        "outputId": "54509063-dbd4-4511-b2fe-1446722b129c"
      },
      "execution_count": null,
      "outputs": [
        {
          "output_type": "execute_result",
          "data": {
            "text/plain": [
              "array(['Former', 'Never', 'Current'], dtype=object)"
            ]
          },
          "metadata": {},
          "execution_count": 52
        }
      ]
    },
    {
      "cell_type": "code",
      "source": [
        "df[\"Diet Type\"].unique()"
      ],
      "metadata": {
        "colab": {
          "base_uri": "https://localhost:8080/"
        },
        "id": "syNKxTT12R76",
        "outputId": "6b163229-850c-42c5-9f23-e012ef86e945"
      },
      "execution_count": null,
      "outputs": [
        {
          "output_type": "execute_result",
          "data": {
            "text/plain": [
              "array(['B', 'A', 'D', 'C', 'E'], dtype=object)"
            ]
          },
          "metadata": {},
          "execution_count": 53
        }
      ]
    },
    {
      "cell_type": "code",
      "source": [
        "df[\"Race\"].unique()"
      ],
      "metadata": {
        "colab": {
          "base_uri": "https://localhost:8080/"
        },
        "id": "01XfUqyO2aT6",
        "outputId": "fd24ba73-a113-4413-bf15-4ead5388f22a"
      },
      "execution_count": null,
      "outputs": [
        {
          "output_type": "execute_result",
          "data": {
            "text/plain": [
              "array(['White/Caucasian', nan, 'Asian', 'Black or African American',\n",
              "       'Other', 'Hispanic/Latino', 'other', 'African American/Black'],\n",
              "      dtype=object)"
            ]
          },
          "metadata": {},
          "execution_count": 54
        }
      ]
    },
    {
      "cell_type": "code",
      "source": [
        "df[\"Race\"]= df[\"Race\"].str.replace ('Black or African American','African American/Black')"
      ],
      "metadata": {
        "id": "VMfGoziu24P6"
      },
      "execution_count": null,
      "outputs": []
    },
    {
      "cell_type": "code",
      "source": [
        "df[\"Race\"]= df[\"Race\"].str.replace ('other','Other')"
      ],
      "metadata": {
        "id": "7teE9HOj8Sfm"
      },
      "execution_count": null,
      "outputs": []
    },
    {
      "cell_type": "code",
      "source": [
        "df[\"Race\"].unique()"
      ],
      "metadata": {
        "colab": {
          "base_uri": "https://localhost:8080/"
        },
        "id": "EPKj76Vb3IJB",
        "outputId": "5c4cb49a-d61a-46ca-915f-6a651363fd14"
      },
      "execution_count": null,
      "outputs": [
        {
          "output_type": "execute_result",
          "data": {
            "text/plain": [
              "array(['White/Caucasian', nan, 'Asian', 'African American/Black', 'Other',\n",
              "       'Hispanic/Latino'], dtype=object)"
            ]
          },
          "metadata": {},
          "execution_count": 130
        }
      ]
    },
    {
      "cell_type": "code",
      "source": [
        "df[\"Race\"].value_counts()"
      ],
      "metadata": {
        "colab": {
          "base_uri": "https://localhost:8080/"
        },
        "id": "je905AeRNJ-S",
        "outputId": "e0a53a1f-21bd-4fb2-8feb-ae9e828ddbea"
      },
      "execution_count": null,
      "outputs": [
        {
          "output_type": "execute_result",
          "data": {
            "text/plain": [
              "White/Caucasian           293\n",
              "Hispanic/Latino            19\n",
              "African American/Black     12\n",
              "Asian                       5\n",
              "Other                       3\n",
              "Name: Race, dtype: int64"
            ]
          },
          "metadata": {},
          "execution_count": 131
        }
      ]
    },
    {
      "cell_type": "code",
      "source": [
        "#because of most of Race Column values are \"White/Caucasian\", we replace it to the nan cells.\n",
        "df.Race.fillna(value=\"White/Caucasian\", inplace=True)"
      ],
      "metadata": {
        "id": "6PzLUxqEN07R"
      },
      "execution_count": null,
      "outputs": []
    },
    {
      "cell_type": "code",
      "source": [
        "#working with columns name that have space in their name is hard. So, we rename them.\n",
        "df = df.rename(columns={'Drug 1 (mg)': 'Drug_one'})\n",
        "df = df.rename(columns={'Drug 2 (mg)': 'Drug_two'})"
      ],
      "metadata": {
        "id": "9ZQOa5M6C2At"
      },
      "execution_count": null,
      "outputs": []
    },
    {
      "cell_type": "code",
      "source": [
        "#if we see the trend of data in Drug_one column, they are descending. Given that we select 0 for blank cells.\n",
        "df.Drug_one.fillna(value=0, inplace=True)"
      ],
      "metadata": {
        "id": "zSmPvDYDCgQi"
      },
      "execution_count": null,
      "outputs": []
    },
    {
      "cell_type": "code",
      "source": [
        "df.count()"
      ],
      "metadata": {
        "colab": {
          "base_uri": "https://localhost:8080/"
        },
        "id": "2U6ADcyY_v28",
        "outputId": "046bf307-b6a7-4c6b-8a35-01a7157730d5"
      },
      "execution_count": null,
      "outputs": [
        {
          "output_type": "execute_result",
          "data": {
            "text/plain": [
              "Row                                  399\n",
              "Drug_one                             399\n",
              "Drug_two                             398\n",
              "Main Disease Status                  399\n",
              "Family Size                          399\n",
              "Age                                  399\n",
              "Severity of the Relevant Disease     399\n",
              "Surgery                              399\n",
              "Smoking Status                       399\n",
              "Pack-year                            399\n",
              "Diet Type                            399\n",
              "Gender                               399\n",
              "Race                                 399\n",
              "dtype: int64"
            ]
          },
          "metadata": {},
          "execution_count": 135
        }
      ]
    },
    {
      "cell_type": "code",
      "source": [
        "# we found that in Drug_2 column there is a blank column. In this regard, we put mean in the blank cell.\n",
        "df.Drug_two.fillna(value=df[\"Drug_two\"].mean(), inplace=True)"
      ],
      "metadata": {
        "id": "GGraGDUx9QxT"
      },
      "execution_count": null,
      "outputs": []
    },
    {
      "cell_type": "code",
      "source": [
        "df.count()"
      ],
      "metadata": {
        "colab": {
          "base_uri": "https://localhost:8080/"
        },
        "id": "3qwio6uB-ZCE",
        "outputId": "0ec5d634-01a9-40bf-facf-bda6c573f727"
      },
      "execution_count": null,
      "outputs": [
        {
          "output_type": "execute_result",
          "data": {
            "text/plain": [
              "Row                                  399\n",
              "Drug_one                             399\n",
              "Drug_two                             399\n",
              "Main Disease Status                  399\n",
              "Family Size                          399\n",
              "Age                                  399\n",
              "Severity of the Relevant Disease     399\n",
              "Surgery                              399\n",
              "Smoking Status                       399\n",
              "Pack-year                            399\n",
              "Diet Type                            399\n",
              "Gender                               399\n",
              "Race                                 399\n",
              "dtype: int64"
            ]
          },
          "metadata": {},
          "execution_count": 88
        }
      ]
    },
    {
      "cell_type": "code",
      "source": [
        "#people who ages are less than 1 cannot be alive to use drugs or smoke or diet\n",
        "df = df.drop(df[df[\"Age\"]== 0].index)"
      ],
      "metadata": {
        "id": "RguLNxdKB5n6"
      },
      "execution_count": null,
      "outputs": []
    },
    {
      "cell_type": "code",
      "source": [
        "#I have no idea about people under 18 years old can use smoking or not\n",
        "#However, I suppose that they cannot use smoke (in former or current mode), and these are false records.\n",
        "df = df.drop (df[(df[\"Age\"]<= 18) & (df[\"Smoking Status\"]=='Former')].index)\n",
        "df = df.drop (df[(df[\"Age\"]<= 18) & (df[\"Smoking Status\"]=='Current')].index)"
      ],
      "metadata": {
        "id": "cBulPFe5o8qV"
      },
      "execution_count": null,
      "outputs": []
    },
    {
      "cell_type": "code",
      "source": [
        "#when we have pack-year = 0, we should have Smoking Style = 'never'\n",
        "#but, I see in some cells when Pack-year=0, the Smoking Style = 'Former'\n",
        "#because of this, I change their name to 'never'\n",
        "df.loc [df['Pack-year']==0 , 'Smoking Status' ]= 'Never'"
      ],
      "metadata": {
        "id": "StIU6w771PJV"
      },
      "execution_count": null,
      "outputs": []
    },
    {
      "cell_type": "code",
      "source": [
        "df.count()"
      ],
      "metadata": {
        "colab": {
          "base_uri": "https://localhost:8080/"
        },
        "id": "qalSIcleDVqY",
        "outputId": "d60178cd-15e1-483a-bb9d-377b4e99f32c"
      },
      "execution_count": null,
      "outputs": [
        {
          "output_type": "execute_result",
          "data": {
            "text/plain": [
              "Row                                  372\n",
              "Drug_one                             372\n",
              "Drug_two                             372\n",
              "Main Disease Status                  372\n",
              "Family Size                          372\n",
              "Age                                  372\n",
              "Severity of the Relevant Disease     372\n",
              "Surgery                              372\n",
              "Smoking Status                       372\n",
              "Pack-year                            372\n",
              "Diet Type                            372\n",
              "Gender                               372\n",
              "Race                                 372\n",
              "dtype: int64"
            ]
          },
          "metadata": {},
          "execution_count": 141
        }
      ]
    },
    {
      "cell_type": "code",
      "source": [
        "#Row column shows the index, and it's not necessary\n",
        "df = df.drop(columns=[\"Row\"])"
      ],
      "metadata": {
        "id": "8BSEE_pWKwXG"
      },
      "execution_count": null,
      "outputs": []
    },
    {
      "cell_type": "code",
      "source": [
        "#because we remove some columns, we should reset the indexes.\n",
        "df = df.reset_index(drop='true')"
      ],
      "metadata": {
        "id": "aD1tILZL45ZQ"
      },
      "execution_count": null,
      "outputs": []
    },
    {
      "cell_type": "markdown",
      "source": [
        "**Convert Data to Numeric**"
      ],
      "metadata": {
        "id": "uDAq8iycLPbf"
      }
    },
    {
      "cell_type": "code",
      "source": [
        "#for gender Column, we use one-hot encoding to convert them to two numeric columns\n",
        "df = pd.get_dummies(df, columns = [\"Gender\"])"
      ],
      "metadata": {
        "id": "2obIVFao5V4H"
      },
      "execution_count": null,
      "outputs": []
    },
    {
      "cell_type": "code",
      "source": [
        "# for others, we cannot use one-hot encoding because we generate many columns.\n",
        "#in this regard, we use lable encoding\n",
        "from sklearn import preprocessing\n",
        "lable_encoder = preprocessing.LabelEncoder()\n",
        "\n",
        "df[\"Surgery\"]= lable_encoder.fit_transform(df[\"Surgery\"])\n",
        "df[\"Smoking Status\"] = lable_encoder.fit_transform (df[\"Smoking Status\"])\n",
        "df[\"Diet Type\"]= lable_encoder.fit_transform (df[\"Diet Type\"])\n",
        "df[\"Race\"]= lable_encoder.fit_transform(df[\"Race\"])"
      ],
      "metadata": {
        "id": "Wb9WO08x54mX"
      },
      "execution_count": null,
      "outputs": []
    },
    {
      "cell_type": "code",
      "source": [
        "#Now, all of our columns are Numeric\n",
        "df.head()"
      ],
      "metadata": {
        "colab": {
          "base_uri": "https://localhost:8080/",
          "height": 241
        },
        "id": "PIUPhSHg9mpE",
        "outputId": "d2d66cbc-caec-4626-aac5-8fe5db0c81b8"
      },
      "execution_count": null,
      "outputs": [
        {
          "output_type": "execute_result",
          "data": {
            "text/plain": [
              "     Drug_one    Drug_two  Main Disease Status  Family Size  Age  \\\n",
              "0  143.266667  154.600000                    1            1   50   \n",
              "1  126.666667  157.033333                    1            2   56   \n",
              "2  109.333333  118.266667                    1            3   62   \n",
              "3  104.533333  113.266667                    1            2   66   \n",
              "4   95.700000  109.666667                    1            2   61   \n",
              "\n",
              "   Severity of the Relevant Disease   Surgery  Smoking Status  Pack-year  \\\n",
              "0                                  4        0               1       30.0   \n",
              "1                                  4        0               2        0.0   \n",
              "2                                  4        1               2        0.0   \n",
              "3                                  4        0               2        0.0   \n",
              "4                                  3        2               2        0.0   \n",
              "\n",
              "   Diet Type  Race  Gender_Female  Gender_Male  \n",
              "0          1     4              0            1  \n",
              "1          1     4              0            1  \n",
              "2          0     4              0            1  \n",
              "3          1     4              0            1  \n",
              "4          1     4              0            1  "
            ],
            "text/html": [
              "\n",
              "  <div id=\"df-1f56904e-5224-421f-b216-92e9d5534073\" class=\"colab-df-container\">\n",
              "    <div>\n",
              "<style scoped>\n",
              "    .dataframe tbody tr th:only-of-type {\n",
              "        vertical-align: middle;\n",
              "    }\n",
              "\n",
              "    .dataframe tbody tr th {\n",
              "        vertical-align: top;\n",
              "    }\n",
              "\n",
              "    .dataframe thead th {\n",
              "        text-align: right;\n",
              "    }\n",
              "</style>\n",
              "<table border=\"1\" class=\"dataframe\">\n",
              "  <thead>\n",
              "    <tr style=\"text-align: right;\">\n",
              "      <th></th>\n",
              "      <th>Drug_one</th>\n",
              "      <th>Drug_two</th>\n",
              "      <th>Main Disease Status</th>\n",
              "      <th>Family Size</th>\n",
              "      <th>Age</th>\n",
              "      <th>Severity of the Relevant Disease</th>\n",
              "      <th>Surgery</th>\n",
              "      <th>Smoking Status</th>\n",
              "      <th>Pack-year</th>\n",
              "      <th>Diet Type</th>\n",
              "      <th>Race</th>\n",
              "      <th>Gender_Female</th>\n",
              "      <th>Gender_Male</th>\n",
              "    </tr>\n",
              "  </thead>\n",
              "  <tbody>\n",
              "    <tr>\n",
              "      <th>0</th>\n",
              "      <td>143.266667</td>\n",
              "      <td>154.600000</td>\n",
              "      <td>1</td>\n",
              "      <td>1</td>\n",
              "      <td>50</td>\n",
              "      <td>4</td>\n",
              "      <td>0</td>\n",
              "      <td>1</td>\n",
              "      <td>30.0</td>\n",
              "      <td>1</td>\n",
              "      <td>4</td>\n",
              "      <td>0</td>\n",
              "      <td>1</td>\n",
              "    </tr>\n",
              "    <tr>\n",
              "      <th>1</th>\n",
              "      <td>126.666667</td>\n",
              "      <td>157.033333</td>\n",
              "      <td>1</td>\n",
              "      <td>2</td>\n",
              "      <td>56</td>\n",
              "      <td>4</td>\n",
              "      <td>0</td>\n",
              "      <td>2</td>\n",
              "      <td>0.0</td>\n",
              "      <td>1</td>\n",
              "      <td>4</td>\n",
              "      <td>0</td>\n",
              "      <td>1</td>\n",
              "    </tr>\n",
              "    <tr>\n",
              "      <th>2</th>\n",
              "      <td>109.333333</td>\n",
              "      <td>118.266667</td>\n",
              "      <td>1</td>\n",
              "      <td>3</td>\n",
              "      <td>62</td>\n",
              "      <td>4</td>\n",
              "      <td>1</td>\n",
              "      <td>2</td>\n",
              "      <td>0.0</td>\n",
              "      <td>0</td>\n",
              "      <td>4</td>\n",
              "      <td>0</td>\n",
              "      <td>1</td>\n",
              "    </tr>\n",
              "    <tr>\n",
              "      <th>3</th>\n",
              "      <td>104.533333</td>\n",
              "      <td>113.266667</td>\n",
              "      <td>1</td>\n",
              "      <td>2</td>\n",
              "      <td>66</td>\n",
              "      <td>4</td>\n",
              "      <td>0</td>\n",
              "      <td>2</td>\n",
              "      <td>0.0</td>\n",
              "      <td>1</td>\n",
              "      <td>4</td>\n",
              "      <td>0</td>\n",
              "      <td>1</td>\n",
              "    </tr>\n",
              "    <tr>\n",
              "      <th>4</th>\n",
              "      <td>95.700000</td>\n",
              "      <td>109.666667</td>\n",
              "      <td>1</td>\n",
              "      <td>2</td>\n",
              "      <td>61</td>\n",
              "      <td>3</td>\n",
              "      <td>2</td>\n",
              "      <td>2</td>\n",
              "      <td>0.0</td>\n",
              "      <td>1</td>\n",
              "      <td>4</td>\n",
              "      <td>0</td>\n",
              "      <td>1</td>\n",
              "    </tr>\n",
              "  </tbody>\n",
              "</table>\n",
              "</div>\n",
              "    <div class=\"colab-df-buttons\">\n",
              "\n",
              "  <div class=\"colab-df-container\">\n",
              "    <button class=\"colab-df-convert\" onclick=\"convertToInteractive('df-1f56904e-5224-421f-b216-92e9d5534073')\"\n",
              "            title=\"Convert this dataframe to an interactive table.\"\n",
              "            style=\"display:none;\">\n",
              "\n",
              "  <svg xmlns=\"http://www.w3.org/2000/svg\" height=\"24px\" viewBox=\"0 -960 960 960\">\n",
              "    <path d=\"M120-120v-720h720v720H120Zm60-500h600v-160H180v160Zm220 220h160v-160H400v160Zm0 220h160v-160H400v160ZM180-400h160v-160H180v160Zm440 0h160v-160H620v160ZM180-180h160v-160H180v160Zm440 0h160v-160H620v160Z\"/>\n",
              "  </svg>\n",
              "    </button>\n",
              "\n",
              "  <style>\n",
              "    .colab-df-container {\n",
              "      display:flex;\n",
              "      gap: 12px;\n",
              "    }\n",
              "\n",
              "    .colab-df-convert {\n",
              "      background-color: #E8F0FE;\n",
              "      border: none;\n",
              "      border-radius: 50%;\n",
              "      cursor: pointer;\n",
              "      display: none;\n",
              "      fill: #1967D2;\n",
              "      height: 32px;\n",
              "      padding: 0 0 0 0;\n",
              "      width: 32px;\n",
              "    }\n",
              "\n",
              "    .colab-df-convert:hover {\n",
              "      background-color: #E2EBFA;\n",
              "      box-shadow: 0px 1px 2px rgba(60, 64, 67, 0.3), 0px 1px 3px 1px rgba(60, 64, 67, 0.15);\n",
              "      fill: #174EA6;\n",
              "    }\n",
              "\n",
              "    .colab-df-buttons div {\n",
              "      margin-bottom: 4px;\n",
              "    }\n",
              "\n",
              "    [theme=dark] .colab-df-convert {\n",
              "      background-color: #3B4455;\n",
              "      fill: #D2E3FC;\n",
              "    }\n",
              "\n",
              "    [theme=dark] .colab-df-convert:hover {\n",
              "      background-color: #434B5C;\n",
              "      box-shadow: 0px 1px 3px 1px rgba(0, 0, 0, 0.15);\n",
              "      filter: drop-shadow(0px 1px 2px rgba(0, 0, 0, 0.3));\n",
              "      fill: #FFFFFF;\n",
              "    }\n",
              "  </style>\n",
              "\n",
              "    <script>\n",
              "      const buttonEl =\n",
              "        document.querySelector('#df-1f56904e-5224-421f-b216-92e9d5534073 button.colab-df-convert');\n",
              "      buttonEl.style.display =\n",
              "        google.colab.kernel.accessAllowed ? 'block' : 'none';\n",
              "\n",
              "      async function convertToInteractive(key) {\n",
              "        const element = document.querySelector('#df-1f56904e-5224-421f-b216-92e9d5534073');\n",
              "        const dataTable =\n",
              "          await google.colab.kernel.invokeFunction('convertToInteractive',\n",
              "                                                    [key], {});\n",
              "        if (!dataTable) return;\n",
              "\n",
              "        const docLinkHtml = 'Like what you see? Visit the ' +\n",
              "          '<a target=\"_blank\" href=https://colab.research.google.com/notebooks/data_table.ipynb>data table notebook</a>'\n",
              "          + ' to learn more about interactive tables.';\n",
              "        element.innerHTML = '';\n",
              "        dataTable['output_type'] = 'display_data';\n",
              "        await google.colab.output.renderOutput(dataTable, element);\n",
              "        const docLink = document.createElement('div');\n",
              "        docLink.innerHTML = docLinkHtml;\n",
              "        element.appendChild(docLink);\n",
              "      }\n",
              "    </script>\n",
              "  </div>\n",
              "\n",
              "\n",
              "<div id=\"df-23142a6d-077d-400d-a722-30596b784538\">\n",
              "  <button class=\"colab-df-quickchart\" onclick=\"quickchart('df-23142a6d-077d-400d-a722-30596b784538')\"\n",
              "            title=\"Suggest charts\"\n",
              "            style=\"display:none;\">\n",
              "\n",
              "<svg xmlns=\"http://www.w3.org/2000/svg\" height=\"24px\"viewBox=\"0 0 24 24\"\n",
              "     width=\"24px\">\n",
              "    <g>\n",
              "        <path d=\"M19 3H5c-1.1 0-2 .9-2 2v14c0 1.1.9 2 2 2h14c1.1 0 2-.9 2-2V5c0-1.1-.9-2-2-2zM9 17H7v-7h2v7zm4 0h-2V7h2v10zm4 0h-2v-4h2v4z\"/>\n",
              "    </g>\n",
              "</svg>\n",
              "  </button>\n",
              "\n",
              "<style>\n",
              "  .colab-df-quickchart {\n",
              "      --bg-color: #E8F0FE;\n",
              "      --fill-color: #1967D2;\n",
              "      --hover-bg-color: #E2EBFA;\n",
              "      --hover-fill-color: #174EA6;\n",
              "      --disabled-fill-color: #AAA;\n",
              "      --disabled-bg-color: #DDD;\n",
              "  }\n",
              "\n",
              "  [theme=dark] .colab-df-quickchart {\n",
              "      --bg-color: #3B4455;\n",
              "      --fill-color: #D2E3FC;\n",
              "      --hover-bg-color: #434B5C;\n",
              "      --hover-fill-color: #FFFFFF;\n",
              "      --disabled-bg-color: #3B4455;\n",
              "      --disabled-fill-color: #666;\n",
              "  }\n",
              "\n",
              "  .colab-df-quickchart {\n",
              "    background-color: var(--bg-color);\n",
              "    border: none;\n",
              "    border-radius: 50%;\n",
              "    cursor: pointer;\n",
              "    display: none;\n",
              "    fill: var(--fill-color);\n",
              "    height: 32px;\n",
              "    padding: 0;\n",
              "    width: 32px;\n",
              "  }\n",
              "\n",
              "  .colab-df-quickchart:hover {\n",
              "    background-color: var(--hover-bg-color);\n",
              "    box-shadow: 0 1px 2px rgba(60, 64, 67, 0.3), 0 1px 3px 1px rgba(60, 64, 67, 0.15);\n",
              "    fill: var(--button-hover-fill-color);\n",
              "  }\n",
              "\n",
              "  .colab-df-quickchart-complete:disabled,\n",
              "  .colab-df-quickchart-complete:disabled:hover {\n",
              "    background-color: var(--disabled-bg-color);\n",
              "    fill: var(--disabled-fill-color);\n",
              "    box-shadow: none;\n",
              "  }\n",
              "\n",
              "  .colab-df-spinner {\n",
              "    border: 2px solid var(--fill-color);\n",
              "    border-color: transparent;\n",
              "    border-bottom-color: var(--fill-color);\n",
              "    animation:\n",
              "      spin 1s steps(1) infinite;\n",
              "  }\n",
              "\n",
              "  @keyframes spin {\n",
              "    0% {\n",
              "      border-color: transparent;\n",
              "      border-bottom-color: var(--fill-color);\n",
              "      border-left-color: var(--fill-color);\n",
              "    }\n",
              "    20% {\n",
              "      border-color: transparent;\n",
              "      border-left-color: var(--fill-color);\n",
              "      border-top-color: var(--fill-color);\n",
              "    }\n",
              "    30% {\n",
              "      border-color: transparent;\n",
              "      border-left-color: var(--fill-color);\n",
              "      border-top-color: var(--fill-color);\n",
              "      border-right-color: var(--fill-color);\n",
              "    }\n",
              "    40% {\n",
              "      border-color: transparent;\n",
              "      border-right-color: var(--fill-color);\n",
              "      border-top-color: var(--fill-color);\n",
              "    }\n",
              "    60% {\n",
              "      border-color: transparent;\n",
              "      border-right-color: var(--fill-color);\n",
              "    }\n",
              "    80% {\n",
              "      border-color: transparent;\n",
              "      border-right-color: var(--fill-color);\n",
              "      border-bottom-color: var(--fill-color);\n",
              "    }\n",
              "    90% {\n",
              "      border-color: transparent;\n",
              "      border-bottom-color: var(--fill-color);\n",
              "    }\n",
              "  }\n",
              "</style>\n",
              "\n",
              "  <script>\n",
              "    async function quickchart(key) {\n",
              "      const quickchartButtonEl =\n",
              "        document.querySelector('#' + key + ' button');\n",
              "      quickchartButtonEl.disabled = true;  // To prevent multiple clicks.\n",
              "      quickchartButtonEl.classList.add('colab-df-spinner');\n",
              "      try {\n",
              "        const charts = await google.colab.kernel.invokeFunction(\n",
              "            'suggestCharts', [key], {});\n",
              "      } catch (error) {\n",
              "        console.error('Error during call to suggestCharts:', error);\n",
              "      }\n",
              "      quickchartButtonEl.classList.remove('colab-df-spinner');\n",
              "      quickchartButtonEl.classList.add('colab-df-quickchart-complete');\n",
              "    }\n",
              "    (() => {\n",
              "      let quickchartButtonEl =\n",
              "        document.querySelector('#df-23142a6d-077d-400d-a722-30596b784538 button');\n",
              "      quickchartButtonEl.style.display =\n",
              "        google.colab.kernel.accessAllowed ? 'block' : 'none';\n",
              "    })();\n",
              "  </script>\n",
              "</div>\n",
              "    </div>\n",
              "  </div>\n"
            ]
          },
          "metadata": {},
          "execution_count": 149
        }
      ]
    },
    {
      "cell_type": "markdown",
      "source": [
        "# **Classification Model**"
      ],
      "metadata": {
        "id": "N9V20Umd8IpP"
      }
    },
    {
      "cell_type": "markdown",
      "source": [
        "**Binary Classification**"
      ],
      "metadata": {
        "id": "A2Qa9PSgMPBi"
      }
    },
    {
      "cell_type": "code",
      "source": [
        "# Import libraries and classes required\n",
        "from sklearn.model_selection import train_test_split\n",
        "from sklearn.preprocessing import StandardScaler\n",
        "from sklearn.neighbors import KNeighborsClassifier\n",
        "from sklearn.svm import LinearSVC\n",
        "from sklearn.ensemble import RandomForestClassifier\n",
        "from sklearn.metrics import classification_report, confusion_matrix"
      ],
      "metadata": {
        "id": "TZQl4fWK74Gu"
      },
      "execution_count": null,
      "outputs": []
    },
    {
      "cell_type": "code",
      "source": [
        "# Assign values to the X and y variables:\n",
        "X = df.drop(\"Main Disease Status\", axis=1)\n",
        "y = df[\"Main Disease Status\"]\n",
        "# Split dataset into random train and test subsets:\n",
        "X_train, X_test, y_train, y_test = train_test_split(X, y, test_size=0.20)\n",
        "# Standardize features by removing mean and scaling to unit variance:\n",
        "scaler = StandardScaler()\n",
        "scaler.fit(X_train)\n",
        "X_train = scaler.transform(X_train)\n",
        "X_test = scaler.transform(X_test)"
      ],
      "metadata": {
        "id": "_xt5obaw8jL1"
      },
      "execution_count": null,
      "outputs": []
    },
    {
      "cell_type": "markdown",
      "source": [
        "**KNN classifier to fit data**"
      ],
      "metadata": {
        "id": "pN8Jpd9SQm04"
      }
    },
    {
      "cell_type": "code",
      "source": [
        "KNN = KNeighborsClassifier(n_neighbors=5)\n",
        "KNN.fit(X_train, y_train)\n",
        "# Predict y data with classifier:\n",
        "y_predict = KNN.predict(X_test)\n",
        "# Print results:\n",
        "print(confusion_matrix(y_test, y_predict))\n",
        "print(classification_report(y_test, y_predict))"
      ],
      "metadata": {
        "colab": {
          "base_uri": "https://localhost:8080/"
        },
        "id": "BjHz4YazMmaR",
        "outputId": "17f11a78-bcf6-4cdc-ab01-29ddf9e6327f"
      },
      "execution_count": null,
      "outputs": [
        {
          "output_type": "stream",
          "name": "stdout",
          "text": [
            "[[46  1]\n",
            " [ 6 22]]\n",
            "              precision    recall  f1-score   support\n",
            "\n",
            "           0       0.88      0.98      0.93        47\n",
            "           1       0.96      0.79      0.86        28\n",
            "\n",
            "    accuracy                           0.91        75\n",
            "   macro avg       0.92      0.88      0.90        75\n",
            "weighted avg       0.91      0.91      0.90        75\n",
            "\n"
          ]
        }
      ]
    },
    {
      "cell_type": "markdown",
      "source": [
        "**SVM Classifier**"
      ],
      "metadata": {
        "id": "hTi-Hs0DQsS8"
      }
    },
    {
      "cell_type": "code",
      "source": [
        "SVM = LinearSVC()\n",
        "SVM.fit(X_train, y_train)\n",
        "# Predict y data with classifier:\n",
        "y_predict = SVM.predict(X_test)\n",
        "# Print results:\n",
        "print(confusion_matrix(y_test, y_predict))\n",
        "print(classification_report(y_test, y_predict))"
      ],
      "metadata": {
        "colab": {
          "base_uri": "https://localhost:8080/"
        },
        "id": "n8F7ub_3Qr4o",
        "outputId": "245164b9-f93e-48b1-cf73-6f9beae61a26"
      },
      "execution_count": null,
      "outputs": [
        {
          "output_type": "stream",
          "name": "stdout",
          "text": [
            "[[47  0]\n",
            " [ 0 28]]\n",
            "              precision    recall  f1-score   support\n",
            "\n",
            "           0       1.00      1.00      1.00        47\n",
            "           1       1.00      1.00      1.00        28\n",
            "\n",
            "    accuracy                           1.00        75\n",
            "   macro avg       1.00      1.00      1.00        75\n",
            "weighted avg       1.00      1.00      1.00        75\n",
            "\n"
          ]
        }
      ]
    },
    {
      "cell_type": "markdown",
      "source": [
        "**RandomForest Classifier**"
      ],
      "metadata": {
        "id": "YPg4N79eRSHc"
      }
    },
    {
      "cell_type": "code",
      "source": [
        "RFC = RandomForestClassifier()\n",
        "RFC.fit(X_train, y_train)\n",
        "# Predict y data with classifier:\n",
        "y_predict = RFC.predict(X_test)\n",
        "# Print results:\n",
        "print(confusion_matrix(y_test, y_predict))\n",
        "print(classification_report(y_test, y_predict))"
      ],
      "metadata": {
        "colab": {
          "base_uri": "https://localhost:8080/"
        },
        "id": "akXfI_R8QQZq",
        "outputId": "aa0b0ea1-efab-49ac-c127-352dd1ec1c5a"
      },
      "execution_count": null,
      "outputs": [
        {
          "output_type": "stream",
          "name": "stdout",
          "text": [
            "[[47  0]\n",
            " [ 1 27]]\n",
            "              precision    recall  f1-score   support\n",
            "\n",
            "           0       0.98      1.00      0.99        47\n",
            "           1       1.00      0.96      0.98        28\n",
            "\n",
            "    accuracy                           0.99        75\n",
            "   macro avg       0.99      0.98      0.99        75\n",
            "weighted avg       0.99      0.99      0.99        75\n",
            "\n"
          ]
        }
      ]
    },
    {
      "cell_type": "markdown",
      "source": [
        "# **Validation**"
      ],
      "metadata": {
        "id": "io0CdyqBIK3S"
      }
    },
    {
      "cell_type": "code",
      "source": [
        "#Because to each Model Run, we get different answers. I decided to validate the models.\n",
        "from sklearn.model_selection import KFold, StratifiedKFold, cross_val_score\n",
        "kf =KFold(n_splits=3, shuffle=True, random_state=42)\n",
        "\n",
        "cnt = 1\n",
        "# split()  method generate indices to split data into training and test set.\n",
        "for train_index, test_index in kf.split(X, y):\n",
        "    print(f'Fold:{cnt}, Train set: {len(train_index)}, Test set:{len(test_index)}')\n",
        "    cnt += 1"
      ],
      "metadata": {
        "id": "4KKi9A3bIEig",
        "colab": {
          "base_uri": "https://localhost:8080/"
        },
        "outputId": "5969ad17-6a70-435c-c808-f986cb5fd668"
      },
      "execution_count": null,
      "outputs": [
        {
          "output_type": "stream",
          "name": "stdout",
          "text": [
            "Fold:1, Train set: 248, Test set:124\n",
            "Fold:2, Train set: 248, Test set:124\n",
            "Fold:3, Train set: 248, Test set:124\n"
          ]
        }
      ]
    },
    {
      "cell_type": "code",
      "source": [
        "score = cross_val_score(KNN, X, y, cv= kf, scoring=\"accuracy\")\n",
        "print(f'Scores for each fold: {score}')\n",
        "print(score.mean())"
      ],
      "metadata": {
        "colab": {
          "base_uri": "https://localhost:8080/"
        },
        "id": "bMd7dBj-I_cd",
        "outputId": "d7d8416a-0bde-4892-fac8-6eaa9705380b"
      },
      "execution_count": null,
      "outputs": [
        {
          "output_type": "stream",
          "name": "stdout",
          "text": [
            "Scores for each fold: [0.83870968 0.81451613 0.88709677]\n",
            "0.8467741935483871\n"
          ]
        }
      ]
    },
    {
      "cell_type": "code",
      "source": [
        "score = cross_val_score(SVM, X, y, cv= kf, scoring=\"accuracy\")\n",
        "print(f'Scores for each fold: {score}')\n",
        "print(score.mean())"
      ],
      "metadata": {
        "colab": {
          "base_uri": "https://localhost:8080/"
        },
        "id": "MksEt4XbSaa9",
        "outputId": "f6534b08-1e85-4ef3-d306-e7a38841cb2b"
      },
      "execution_count": null,
      "outputs": [
        {
          "output_type": "stream",
          "name": "stdout",
          "text": [
            "Scores for each fold: [1.         1.         0.98387097]\n",
            "0.9946236559139785\n"
          ]
        },
        {
          "output_type": "stream",
          "name": "stderr",
          "text": [
            "/usr/local/lib/python3.10/dist-packages/sklearn/svm/_base.py:1244: ConvergenceWarning: Liblinear failed to converge, increase the number of iterations.\n",
            "  warnings.warn(\n",
            "/usr/local/lib/python3.10/dist-packages/sklearn/svm/_base.py:1244: ConvergenceWarning: Liblinear failed to converge, increase the number of iterations.\n",
            "  warnings.warn(\n",
            "/usr/local/lib/python3.10/dist-packages/sklearn/svm/_base.py:1244: ConvergenceWarning: Liblinear failed to converge, increase the number of iterations.\n",
            "  warnings.warn(\n"
          ]
        }
      ]
    },
    {
      "cell_type": "code",
      "source": [
        "score = cross_val_score(RFC, X, y, cv= kf, scoring=\"accuracy\")\n",
        "print(f'Scores for each fold: {score}')\n",
        "print(score.mean())"
      ],
      "metadata": {
        "colab": {
          "base_uri": "https://localhost:8080/"
        },
        "id": "H-A2BN-ISaZs",
        "outputId": "96a09dfa-4362-4161-ef44-c08c4722d695"
      },
      "execution_count": null,
      "outputs": [
        {
          "output_type": "stream",
          "name": "stdout",
          "text": [
            "Scores for each fold: [0.99193548 1.         1.        ]\n",
            "0.9973118279569894\n"
          ]
        }
      ]
    }
  ]
}