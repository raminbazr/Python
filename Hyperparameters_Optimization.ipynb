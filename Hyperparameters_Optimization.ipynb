{
  "nbformat": 4,
  "nbformat_minor": 0,
  "metadata": {
    "colab": {
      "provenance": [],
      "authorship_tag": "ABX9TyMdHrrasCritzlEslJsS1DG",
      "include_colab_link": true
    },
    "kernelspec": {
      "name": "python3",
      "display_name": "Python 3"
    },
    "language_info": {
      "name": "python"
    }
  },
  "cells": [
    {
      "cell_type": "markdown",
      "metadata": {
        "id": "view-in-github",
        "colab_type": "text"
      },
      "source": [
        "<a href=\"https://colab.research.google.com/github/raminbazr/Python/blob/main/Hyperparameters_Optimization.ipynb\" target=\"_parent\"><img src=\"https://colab.research.google.com/assets/colab-badge.svg\" alt=\"Open In Colab\"/></a>"
      ]
    },
    {
      "cell_type": "markdown",
      "source": [
        "# **Finding hperparameters of LSTM model with genetic algorithm**"
      ],
      "metadata": {
        "id": "7aKb9vPRkPvM"
      }
    },
    {
      "cell_type": "code",
      "execution_count": null,
      "metadata": {
        "id": "jO0gg--WkOJe"
      },
      "outputs": [],
      "source": [
        "from google.colab import drive\n",
        "drive.mount('/content/drive')"
      ]
    },
    {
      "cell_type": "code",
      "source": [
        "! pip install pandas_datareader --upgrade\n",
        "! pip install bitstring\n",
        "! pip install bitarray \n",
        "! pip install deap"
      ],
      "metadata": {
        "id": "YlfUJimRkc-C"
      },
      "execution_count": null,
      "outputs": []
    },
    {
      "cell_type": "code",
      "source": [
        "from pandas_datareader import data\n",
        "from keras.models import Model\n",
        "from keras.models import Sequential\n",
        "from keras.layers import LSTM, Input, Dense\n",
        "from keras.layers import Dropout\n",
        "import numpy as np\n",
        "import pandas as pd\n",
        "from sklearn.metrics import mean_squared_error\n",
        "from sklearn.model_selection import train_test_split as split\n",
        "import math\n",
        "from keras.layers import LSTM, Input, Dense\n",
        "from keras.models import Model\n",
        "\n",
        "from deap import base, creator, tools, algorithms\n",
        "from scipy.stats import bernoulli\n",
        "from bitstring import BitArray\n",
        "from bitarray import bitarray\n",
        "from bitarray.util import ba2int\n",
        "\n",
        "np.random.seed(1120)"
      ],
      "metadata": {
        "id": "9TxJN8V_kfYC"
      },
      "execution_count": null,
      "outputs": []
    },
    {
      "cell_type": "code",
      "source": [
        "def df_to_X_y(train, window_size):\n",
        "  #df_as_np = data.to_numpy()\n",
        "  X = []\n",
        "  y = []\n",
        "  for i in range(len(train)-window_size):\n",
        "    row = [r for r in train[i:i+window_size]]\n",
        "    X.append(row)\n",
        "    label = [train[i+window_size][4],train[i+window_size][1]]\n",
        "    y.append(label)\n",
        "  return np.array(X), np.array(y)\n",
        "\n",
        "X_train, y_train = df_to_X_y(train,3)\n",
        "X_test, y_test = df_to_X_y(test,3)"
      ],
      "metadata": {
        "id": "KsmcZrE0khpx"
      },
      "execution_count": null,
      "outputs": []
    },
    {
      "cell_type": "code",
      "source": [
        "def train_evaluate(ga_individual_solution):  \n",
        "    print(ga_individual_solution)\n",
        "\n",
        "    # Decode the Genetic Algorithm solution to get the window size and number of units and Dropout rate\n",
        "    window_size_bits = BitArray(ga_individual_solution[0:5])\n",
        "    num_units_bits = BitArray(ga_individual_solution[5:12])   #7 to neuron number\n",
        "    Dropout_rate_bits = BitArray(ga_individual_solution[12:]) \n",
        "    window_size = window_size_bits.uint\n",
        "    num_of_units = num_units_bits.uint\n",
        "    Dropout_rate = ba2int(bitarray(Dropout_rate_bits))/100\n",
        "    # print(num_units_bits)\n",
        "    # print(Dropout_rate)\n",
        "    print('\\nWindow Size: ', window_size, ', Num of Units: ', num_of_units, ', DropoutRate:',Dropout_rate)\n",
        "    \n",
        "    # Return fitness score of 100 if window_size or num_unit is zero\n",
        "    if window_size == 0 or num_of_units == 0 :\n",
        "        return 100,\n",
        "    \n",
        "    # Segment the train_data based on new window_size; \n",
        "    x_train,y_train = df_to_X_y(train,window_size)\n",
        "    x_val,y_val = df_to_X_y(test,window_size)\n",
        "\n",
        "    # X_data,Y_data = prepare_dataset(train_data, window_size)\n",
        "    # x_train, x_val, y_train, y_val = split(X_data, Y_data, test_size = 0.10, random_state = 1120)\n",
        "    \n",
        "    # Design an LSTM model to train on training data and predict on validation data\n",
        "    regressor = Sequential()\n",
        "    \n",
        "    regressor.add(LSTM(units = num_of_units, return_sequences = True, input_shape = (window_size, 15)))\n",
        "    regressor.add(Dropout(Dropout_rate))\n",
        "    \n",
        "    regressor.add(LSTM(units = num_of_units, return_sequences = True))\n",
        "    regressor.add(Dropout(Dropout_rate))\n",
        "    \n",
        "    #regressor.add(LSTM(units = num_of_units, return_sequences = True))\n",
        "    #regressor.add(Dropout(Dropout_rate))\n",
        "    \n",
        "    regressor.add(LSTM(units = num_of_units))\n",
        "    regressor.add(Dropout(Dropout_rate))\n",
        "    \n",
        "    regressor.add(Dense(units = 2))\n",
        "    \n",
        "    regressor.compile(optimizer = 'adam', loss = 'mean_squared_error')\n",
        "\n",
        "    regressor.fit(x_train, y_train, epochs=100, batch_size=64,shuffle=True)\n",
        "    y_pred = regressor.predict(x_val)\n",
        "    \n",
        "    # Calculate the RMSE score as fitness score for GA\n",
        "    rmse = np.sqrt(mean_squared_error(y_val, y_pred))\n",
        "    print('Validation RMSE: ', rmse,'\\n') \n",
        "    return rmse,"
      ],
      "metadata": {
        "id": "ZOCTs-k5klcL"
      },
      "execution_count": null,
      "outputs": []
    },
    {
      "cell_type": "code",
      "source": [
        "#taguchi =[2 ,0.1, 0.1,\t0.1]\n",
        "#taguchi =[2 ,0.4,\t0.5,\t0.3]\n",
        "#taguchi =[2\t,0.8, 0.8,\t0.6]\n",
        "#taguchi =[4\t,0.1, 0.5,\t0.6]\n",
        "#taguchi =[4\t,0.4, 0.8,\t0.1]\n",
        "#taguchi =[4\t,0.8, 0.1,\t0.3]\n",
        "#taguchi =[8\t,0.1, 0.8,\t0.3]\n",
        "#taguchi =[8\t,0.4, 0.1,\t0.6]\n",
        "#taguchi =[8\t,0.8, 0.5,\t0.1]\n",
        "taguchi=[2, 0.1, 0.5, 0.1]\n",
        "\n",
        "population_size = taguchi[0]  #4 choromosome\n",
        "num_generations = 4\n",
        "gene_length = 17     #each choromosome consist of 17 bit\n",
        "\n",
        "\n",
        "# As we are trying to minimize the RMSE score, that's why using -1.0. \n",
        "# In case, when you want to maximize accuracy for instance, use 1.0\n",
        "creator.create('FitnessMax', base.Fitness, weights = (-1.0,))\n",
        "creator.create('Individual', list , fitness = creator.FitnessMax)\n",
        "\n",
        "toolbox = base.Toolbox()\n",
        "toolbox.register('binary', bernoulli.rvs, 0.5)\n",
        "toolbox.register('individual', tools.initRepeat, creator.Individual, toolbox.binary, n = gene_length)\n",
        "toolbox.register('population', tools.initRepeat, list , toolbox.individual)\n",
        "\n",
        "toolbox.register('mate', tools.cxOrdered)\n",
        "toolbox.register('mutate', tools.mutShuffleIndexes, indpb = taguchi[3])\n",
        "toolbox.register('select', tools.selRoulette)\n",
        "toolbox.register('evaluate', train_evaluate)\n",
        "\n",
        "population = toolbox.population(n = population_size)\n",
        "r = algorithms.eaSimple(population, toolbox, cxpb = taguchi[1], mutpb = taguchi[2], ngen = num_generations, verbose = False)"
      ],
      "metadata": {
        "id": "0ViLj5N_kmFU"
      },
      "execution_count": null,
      "outputs": []
    },
    {
      "cell_type": "code",
      "source": [
        "optimal_individuals_data = tools.selBest(population,k = 3) #select top 1 solution\n",
        "optimal_window_size = None\n",
        "optimal_num_units = None\n",
        "optimal_Dropout_rate = None\n",
        "\n",
        "for bi in optimal_individuals_data:\n",
        "    window_size_bits = BitArray(bi[0:5])\n",
        "    num_units_bits = BitArray(bi[5:12])\n",
        "    Dropout_rate_bits = BitArray(bi[12:]) \n",
        "    optimal_window_size = window_size_bits.uint\n",
        "    optimal_num_units = num_units_bits.uint\n",
        "    optimal_Dropout_rate = ba2int(bitarray(Dropout_rate_bits))/100\n",
        "    print('\\n Best Window Size: ', optimal_window_size, ', Best Num of Units: ', optimal_num_units, ', Best Dropout Rate: ', optimal_Dropout_rate)\n",
        "\n"
      ],
      "metadata": {
        "id": "nwq2yaMhkn_K"
      },
      "execution_count": null,
      "outputs": []
    },
    {
      "cell_type": "code",
      "source": [
        "# train the model with the optimal number of lstm units and optimal Dropout rate and optimal window size for prediction\n",
        "num_of_units = optimal_num_units\n",
        "Dropout_rate = optimal_Dropout_rate\n",
        "window_size = optimal_window_size\n",
        "\n",
        "regressor = Sequential()\n",
        "    \n",
        "regressor.add(LSTM(units = num_of_units, return_sequences = True, input_shape = (3,1))) #windows_size gets 3 ramin\n",
        "regressor.add(Dropout(Dropout_rate))\n",
        "\n",
        "regressor.add(LSTM(units = num_of_units, return_sequences = True))\n",
        "regressor.add(Dropout(Dropout_rate))\n",
        "\n",
        "#regressor.add(LSTM(units = num_of_units, return_sequences = True))\n",
        "#regressor.add(Dropout(Dropout_rate))\n",
        "\n",
        "regressor.add(LSTM(units = num_of_units))\n",
        "regressor.add(Dropout(Dropout_rate))\n",
        "\n",
        "regressor.add(Dense(units = 1))\n",
        "\n",
        "regressor.compile(optimizer = 'adam', loss = 'mean_squared_error')\n",
        "\n",
        "history = regressor.fit(X_train, y_train, epochs=30, batch_size=64,shuffle=True)\n",
        "x_val,y_val = prepare_dataset(test,3)\n",
        "y_pred = regressor.predict(x_val)\n",
        "\n",
        "# Calculate the RMSE score as fitness score for GA\n",
        "rmse = np.sqrt(mean_squared_error(y_val, y_pred[:,0]))\n",
        "print('Validation RMSE: ', rmse,'\\n') "
      ],
      "metadata": {
        "id": "QTi8-dcekpti"
      },
      "execution_count": null,
      "outputs": []
    },
    {
      "cell_type": "code",
      "source": [
        "# plt.plot(np.arange(0, epochs), history.history['val_loss'], label='val_loss')\n",
        "plt.plot(np.arange(0, 30), history.history['loss'], label='train_loss')\n",
        "plt.title('Training Loss')\n",
        "plt.ylabel('Loss')\n",
        "plt.xlabel('Epoch #')\n",
        "plt.legend()\n",
        "plt.show()"
      ],
      "metadata": {
        "id": "suI3EfU2kryC"
      },
      "execution_count": null,
      "outputs": []
    },
    {
      "cell_type": "code",
      "source": [
        "#hence train the model with the optimal number of lstm units and optimal Dropout rate and optimal window size for prediction\n",
        "x_test,y_test = prepare_dataset(test,3)\n",
        "\n",
        "y_pred = regressor.predict(x_test)\n",
        "\n",
        "rmse = np.sqrt(mean_squared_error(y_test, y_pred[:,0]))\n",
        "print('Test RMSE: ', rmse)"
      ],
      "metadata": {
        "id": "QBzsm_Mrkteq"
      },
      "execution_count": null,
      "outputs": []
    },
    {
      "cell_type": "code",
      "source": [
        "plt.plot(test, color = 'black', label = 'ROPc')\n",
        "plt.plot(y_pred, color = 'green', label = 'Predicted ROPc')\n",
        "plt.title('ROPc Prediction')\n",
        "plt.xlabel('Time')\n",
        "plt.ylabel('ROP')\n",
        "plt.legend()\n",
        "plt.show()"
      ],
      "metadata": {
        "id": "ydFgaBP8kvSR"
      },
      "execution_count": null,
      "outputs": []
    }
  ]
}