{
  "nbformat": 4,
  "nbformat_minor": 0,
  "metadata": {
    "colab": {
      "provenance": [],
      "authorship_tag": "ABX9TyMuMPoTle5uwL8n6Cdasv+s",
      "include_colab_link": true
    },
    "kernelspec": {
      "name": "python3",
      "display_name": "Python 3"
    },
    "language_info": {
      "name": "python"
    }
  },
  "cells": [
    {
      "cell_type": "markdown",
      "metadata": {
        "id": "view-in-github",
        "colab_type": "text"
      },
      "source": [
        "<a href=\"https://colab.research.google.com/github/raminbazr/Python/blob/main/Xgboost.ipynb\" target=\"_parent\"><img src=\"https://colab.research.google.com/assets/colab-badge.svg\" alt=\"Open In Colab\"/></a>"
      ]
    },
    {
      "cell_type": "markdown",
      "source": [
        "# **XgBoost**"
      ],
      "metadata": {
        "id": "6nWrqbadyZWU"
      }
    },
    {
      "cell_type": "code",
      "execution_count": null,
      "metadata": {
        "id": "aXWfmayGyX0L"
      },
      "outputs": [],
      "source": [
        "import pandas as pd\n",
        "import xgboost as xgb\n",
        "from sklearn.model_selection import GridSearchCV\n",
        "\n",
        "params = { 'max_depth': [3,6,10],\n",
        "           'learning_rate': [0.01, 0.05, 0.1],\n",
        "           'n_estimators': [100, 500, 1000],\n",
        "           'colsample_bytree': [0.3, 0.7]}\n",
        "xgbr = xgb.XGBRegressor(seed = 20)\n",
        "clf = GridSearchCV(estimator=xgbr, \n",
        "                   param_grid=params, \n",
        "                   verbose=0)\n",
        "clf.fit(X_train, y_train)"
      ]
    },
    {
      "cell_type": "code",
      "source": [
        "print(\"Best parameters:\", clf.best_params_)\n",
        "print(\"Lowest RMSE: \", (-clf.best_score_)**(1/2.0))"
      ],
      "metadata": {
        "id": "6ca0e_pFyqgz"
      },
      "execution_count": null,
      "outputs": []
    },
    {
      "cell_type": "code",
      "source": [
        "prediction1 = clf.predict (X_test)"
      ],
      "metadata": {
        "id": "-tCdIf_2yscL"
      },
      "execution_count": null,
      "outputs": []
    },
    {
      "cell_type": "code",
      "source": [
        "from sklearn.metrics import mean_squared_error\n",
        "score = np.sqrt(mean_squared_error(y_test, prediction1))\n",
        "print(f\"RMSE score on Test set: {score: 0.2f}\")"
      ],
      "metadata": {
        "id": "pt6dXeYAyuEL"
      },
      "execution_count": null,
      "outputs": []
    },
    {
      "cell_type": "code",
      "source": [
        "NRMSE =(score / (y_test.max()-y_test.min()) )*100\n",
        "NRMSE"
      ],
      "metadata": {
        "id": "qMJKZhSsyv7T"
      },
      "execution_count": null,
      "outputs": []
    },
    {
      "cell_type": "code",
      "source": [
        "prediction11= np.reshape(prediction1, (-1,1))\n",
        "prediction11=scaler_y.inverse_transform(prediction11)"
      ],
      "metadata": {
        "id": "lBIP9sHryxcC"
      },
      "execution_count": null,
      "outputs": []
    },
    {
      "cell_type": "code",
      "source": [
        "y_test1 = scaler_y.inverse_transform (y_test)\n",
        "print(y_test1.max())\n",
        "print(y_test1.min())"
      ],
      "metadata": {
        "id": "784U8qqYyy-q"
      },
      "execution_count": null,
      "outputs": []
    },
    {
      "cell_type": "code",
      "source": [
        "from sklearn.metrics import mean_absolute_percentage_error\n",
        "mean_absolute_percentage_error(y_test1,prediction11)*100"
      ],
      "metadata": {
        "id": "dqVvEFqny0nb"
      },
      "execution_count": null,
      "outputs": []
    },
    {
      "cell_type": "code",
      "source": [
        "from sklearn.metrics import mean_absolute_error\n",
        "mae = mean_absolute_error (y_test,prediction1)\n",
        "mae "
      ],
      "metadata": {
        "id": "PGafbczLy2Fq"
      },
      "execution_count": null,
      "outputs": []
    },
    {
      "cell_type": "code",
      "source": [
        "NMAE = (mae / (y_test.max()-y_test.min()))*100\n",
        "NMAE"
      ],
      "metadata": {
        "id": "QBRVdI2dy3d6"
      },
      "execution_count": null,
      "outputs": []
    },
    {
      "cell_type": "code",
      "source": [
        "from sklearn.metrics import r2_score\n",
        "r2_score(y_test,prediction1)"
      ],
      "metadata": {
        "id": "n7HpfusCy5D6"
      },
      "execution_count": null,
      "outputs": []
    },
    {
      "cell_type": "code",
      "source": [
        "X_test.shape"
      ],
      "metadata": {
        "id": "yWcO4Wqpy6wy"
      },
      "execution_count": null,
      "outputs": []
    },
    {
      "cell_type": "code",
      "source": [
        "#X_test.index\n",
        "xd = np.linspace(0,80,133)\n",
        "plt.scatter(X_test[:,0],prediction11, color = 'red', label= \"Predicted ROPc\")\n",
        "plt.scatter(X_test[:,0],y_test1, color = 'blue', label = \"Real value ROP\")\n",
        "plt.xlabel('')\n",
        "plt.ylabel('ROPc')\n",
        "plt.title(\"Scatter Plot for Real Ropc and predicted\",fontsize=15)\n",
        "plt.legend(loc='upper right',fontsize =8)"
      ],
      "metadata": {
        "id": "NsBVExCjy8Aj"
      },
      "execution_count": null,
      "outputs": []
    },
    {
      "cell_type": "markdown",
      "source": [
        "**2**"
      ],
      "metadata": {
        "id": "HcvpSZKWzAkT"
      }
    },
    {
      "cell_type": "code",
      "source": [
        "import pandas as pd\n",
        "import numpy as np\n",
        "import xgboost as xgb\n",
        "from sklearn.model_selection import RandomizedSearchCV\n",
        "\n",
        "params = { 'max_depth': [3, 5, 6, 10, 15, 20],\n",
        "           'learning_rate': [0.01, 0.1, 0.2, 0.3],\n",
        "           'subsample': np.arange(0.5, 1.0, 0.1),\n",
        "           'colsample_bytree': np.arange(0.4, 1.0, 0.1),\n",
        "           'colsample_bylevel': np.arange(0.4, 1.0, 0.1),\n",
        "           'n_estimators': [100, 500, 1000]}\n",
        "xgbr = xgb.XGBRegressor(seed = 20 )\n",
        "clf = RandomizedSearchCV(estimator=xgbr,\n",
        "                         param_distributions=params,\n",
        "                         scoring='neg_mean_squared_error',\n",
        "                         n_iter=25,\n",
        "                         verbose=0)\n",
        "clf.fit(X_train, y_train)"
      ],
      "metadata": {
        "id": "eDG09PvtzDLS"
      },
      "execution_count": null,
      "outputs": []
    },
    {
      "cell_type": "code",
      "source": [
        "print(\"Best parameters:\", clf.best_params_)\n",
        "print(\"Lowest RMSE: \", (-clf.best_score_)**(1/2.0))"
      ],
      "metadata": {
        "id": "6L2bdqrOzR75"
      },
      "execution_count": null,
      "outputs": []
    }
  ]
}