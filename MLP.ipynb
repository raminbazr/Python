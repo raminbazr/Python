{
  "nbformat": 4,
  "nbformat_minor": 0,
  "metadata": {
    "colab": {
      "provenance": [],
      "authorship_tag": "ABX9TyO3fvivI4fSiyny3qpNgGMS",
      "include_colab_link": true
    },
    "kernelspec": {
      "name": "python3",
      "display_name": "Python 3"
    },
    "language_info": {
      "name": "python"
    }
  },
  "cells": [
    {
      "cell_type": "markdown",
      "metadata": {
        "id": "view-in-github",
        "colab_type": "text"
      },
      "source": [
        "<a href=\"https://colab.research.google.com/github/raminbazr/Python/blob/main/MLP.ipynb\" target=\"_parent\"><img src=\"https://colab.research.google.com/assets/colab-badge.svg\" alt=\"Open In Colab\"/></a>"
      ]
    },
    {
      "cell_type": "markdown",
      "source": [
        "# **Neural Network**"
      ],
      "metadata": {
        "id": "7E9X8Hrv_4Kq"
      }
    },
    {
      "cell_type": "code",
      "source": [
        "# mlp for regression\n",
        "from numpy import sqrt\n",
        "from pandas import read_csv\n",
        "from sklearn.model_selection import train_test_split\n",
        "from tensorflow.keras import Sequential\n",
        "from tensorflow.keras.layers import Dense\n",
        "import tensorflow\n",
        "from tensorflow import keras\n",
        "from matplotlib import pyplot\n",
        "from keras.layers import Dropout\n",
        "from tensorflow.keras import regularizers\n",
        "\n",
        "# determine the number of input features\n",
        "n_features = X_train.shape[1]\n",
        "# define model\n",
        "model = Sequential()\n",
        "#model.add(Dense(31, activation='elu',kernel_regularizer=regularizers.l2(0.001),input_shape=(n_features,))) \n",
        "model.add(Dense(31, activation= 'elu', kernel_initializer = 'random_normal',\n",
        "                bias_initializer = 'random_normal',kernel_regularizer=regularizers.l2(0.001)))\n",
        "#model.add(Dropout(0.2))\n",
        "#model.add(Dense(31, activation= 'elu', kernel_initializer = 'random_normal',\n",
        "#               bias_initializer = 'random_normal',kernel_regularizer=regularizers.l2(0.001)))\n",
        "\n",
        "model.add(Dense(1))\n",
        "# compile the model\n",
        "opt= keras.optimizers.SGD(learning_rate=0.01)\n",
        "#opt = tensorflow.keras.optimizers.RMSprop(learning_rate=0.001,rho=0.9,momentum=0.0,epsilon=1e-07,centered=False,name=\"RMSprop\")\n",
        "model.compile(optimizer=opt, loss='mse')\n",
        "# fit the model\n",
        "history=model.fit(X_train, y_train, validation_data = (X_test,y_test), epochs=100, batch_size=10, verbose=1,validation_split=0.3)\n",
        "# evaluate the model\n",
        "error = model.evaluate(X_test, y_test, verbose=1)\n",
        "print('MSE: %.3f, RMSE: %.3f' % (error, sqrt(error)))\n",
        "# plot learning curves\n",
        "pyplot.title('Learning Curves')\n",
        "pyplot.xlabel('Epoch')\n",
        "pyplot.ylabel('')\n",
        "pyplot.plot(history.history['loss'], label='train')\n",
        "pyplot.plot(history.history['val_loss'], label='val')\n",
        "pyplot.legend()\n",
        "pyplot.show()"
      ],
      "metadata": {
        "id": "azJGcNfA_4nJ"
      },
      "execution_count": null,
      "outputs": []
    },
    {
      "cell_type": "code",
      "source": [
        "y_pred1= model.predict(X_test)\n",
        "#print(y_pred1)"
      ],
      "metadata": {
        "id": "41_tL7QXFXwK"
      },
      "execution_count": null,
      "outputs": []
    },
    {
      "cell_type": "code",
      "source": [
        "from sklearn.metrics import mean_squared_error\n",
        "rmse = np.sqrt(mean_squared_error(y_test,y_pred1))\n",
        "rmse"
      ],
      "metadata": {
        "id": "tPnHSJU5FZfB"
      },
      "execution_count": null,
      "outputs": []
    },
    {
      "cell_type": "code",
      "source": [
        "NRMSE = (rmse/(y_test.max()-y_test.min()))*100\n",
        "NRMSE"
      ],
      "metadata": {
        "id": "tSfUezJOFbPS"
      },
      "execution_count": null,
      "outputs": []
    },
    {
      "cell_type": "code",
      "source": [
        "y_pred1.shape"
      ],
      "metadata": {
        "id": "UsHu5iiAFc9J"
      },
      "execution_count": null,
      "outputs": []
    },
    {
      "cell_type": "code",
      "source": [
        "#X_test.index\n",
        "xd = np.linspace(0,2,143)\n",
        "plt.scatter(X_test[:,0],y_pred11 ,color = 'red', label= \"Predicted ROPc\")\n",
        "plt.scatter(X_test[:,0],y_test1, color = 'blue', label = \"Real value ROP\")\n",
        "plt.xlabel('')\n",
        "plt.ylabel('ROPc')\n",
        "plt.title(\"Scatter Plot for Real Ropc and predicted\",fontsize=15)\n",
        "plt.legend(loc='upper right',fontsize =8)"
      ],
      "metadata": {
        "id": "AiObLXplFesp"
      },
      "execution_count": null,
      "outputs": []
    },
    {
      "cell_type": "code",
      "source": [
        "import tensorflow\n",
        "tensorflow.keras.metrics.mean_absolute_error(\n",
        "    y_test, y_pred1\n",
        ")"
      ],
      "metadata": {
        "id": "IuxmanP_FgqS"
      },
      "execution_count": null,
      "outputs": []
    },
    {
      "cell_type": "code",
      "source": [
        "from sklearn.metrics import r2_score\n",
        "\n",
        "r2_score(y_test, y_pred1)"
      ],
      "metadata": {
        "id": "OOCqbjB9Fi8y"
      },
      "execution_count": null,
      "outputs": []
    },
    {
      "cell_type": "code",
      "source": [
        "from sklearn.metrics import mean_absolute_error\n",
        "mean_absolute_error(y_test, y_pred1)"
      ],
      "metadata": {
        "id": "56oMLh7YFk1J"
      },
      "execution_count": null,
      "outputs": []
    },
    {
      "cell_type": "code",
      "source": [
        "y_test1 = scaler_y.inverse_transform(y_test)\n",
        "print(y_test1.max())\n",
        "print(y_test1.min())"
      ],
      "metadata": {
        "id": "275Tc7ouFm0y"
      },
      "execution_count": null,
      "outputs": []
    },
    {
      "cell_type": "code",
      "source": [
        "y_pred11= np.reshape(y_pred1, (-1,1))\n",
        "y_pred11=scaler_y.inverse_transform(y_pred11)"
      ],
      "metadata": {
        "id": "EKCMb0rOFoxC"
      },
      "execution_count": null,
      "outputs": []
    },
    {
      "cell_type": "code",
      "source": [
        "from sklearn.metrics import mean_absolute_percentage_error\n",
        "mean_absolute_percentage_error(y_test1, y_pred11)*100"
      ],
      "metadata": {
        "id": "lh0jwxTqFrEq"
      },
      "execution_count": null,
      "outputs": []
    }
  ]
}