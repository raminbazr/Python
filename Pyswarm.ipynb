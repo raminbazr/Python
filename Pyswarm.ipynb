{
  "nbformat": 4,
  "nbformat_minor": 0,
  "metadata": {
    "colab": {
      "provenance": [],
      "authorship_tag": "ABX9TyNUu6OqEs4O3FjSjfnrzM3I",
      "include_colab_link": true
    },
    "kernelspec": {
      "name": "python3",
      "display_name": "Python 3"
    },
    "language_info": {
      "name": "python"
    }
  },
  "cells": [
    {
      "cell_type": "markdown",
      "metadata": {
        "id": "view-in-github",
        "colab_type": "text"
      },
      "source": [
        "<a href=\"https://colab.research.google.com/github/raminbazr/Python/blob/main/Pyswarm.ipynb\" target=\"_parent\"><img src=\"https://colab.research.google.com/assets/colab-badge.svg\" alt=\"Open In Colab\"/></a>"
      ]
    },
    {
      "cell_type": "markdown",
      "source": [
        "# **Optimization with Pyswarm**"
      ],
      "metadata": {
        "id": "llfMbIRLl_XJ"
      }
    },
    {
      "cell_type": "code",
      "execution_count": null,
      "metadata": {
        "id": "987xlBTKl8Os"
      },
      "outputs": [],
      "source": [
        "cols_when_model_builds =reg.get_booster().feature_names\n",
        "cols_when_model_builds"
      ]
    },
    {
      "cell_type": "code",
      "source": [
        "#[wob,torque,RPM, 0.0009,0.8,rop,pump,0,0.5,0.74,0.039,0.0238,0.33,0.166,1]"
      ],
      "metadata": {
        "id": "JnSDa0n_mERo"
      },
      "execution_count": null,
      "outputs": []
    },
    {
      "cell_type": "code",
      "source": [
        "def objective(X, model):\n",
        "  input = np.array([[X[0],X[1],X[2],0.0009,0.8,X[3],0,0.5,0.74,0.039,0.0238,0.33,0.166,1]])\n",
        "  obj = model.predict(input)[0]\n",
        "  return -obj"
      ],
      "metadata": {
        "id": "oPOBDDVtmGgo"
      },
      "execution_count": null,
      "outputs": []
    },
    {
      "cell_type": "code",
      "source": [
        "pip install pyswarm"
      ],
      "metadata": {
        "id": "J54yBT0xmIJY"
      },
      "execution_count": null,
      "outputs": []
    },
    {
      "cell_type": "code",
      "source": [
        "from pyswarm import pso\n",
        "ub = [1,1,1,1]\n",
        "lb = [0,0,0,0]\n",
        "xopt, fopt = pso(objective, lb, ub, args = (reg,), maxiter= 200, swarmsize= 200)"
      ],
      "metadata": {
        "id": "BD2EjjBHmJdH"
      },
      "execution_count": null,
      "outputs": []
    },
    {
      "cell_type": "code",
      "source": [
        "print(xopt)\n",
        "print(fopt)"
      ],
      "metadata": {
        "id": "twXayF3VmLV_"
      },
      "execution_count": null,
      "outputs": []
    }
  ]
}