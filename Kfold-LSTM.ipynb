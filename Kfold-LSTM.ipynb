{
  "nbformat": 4,
  "nbformat_minor": 0,
  "metadata": {
    "colab": {
      "provenance": [],
      "authorship_tag": "ABX9TyO9QC8o1NgEmvXcBkyVq56B",
      "include_colab_link": true
    },
    "kernelspec": {
      "name": "python3",
      "display_name": "Python 3"
    },
    "language_info": {
      "name": "python"
    }
  },
  "cells": [
    {
      "cell_type": "markdown",
      "metadata": {
        "id": "view-in-github",
        "colab_type": "text"
      },
      "source": [
        "<a href=\"https://colab.research.google.com/github/raminbazr/Python/blob/main/Kfold-LSTM.ipynb\" target=\"_parent\"><img src=\"https://colab.research.google.com/assets/colab-badge.svg\" alt=\"Open In Colab\"/></a>"
      ]
    },
    {
      "cell_type": "markdown",
      "source": [
        "# **Kfold for LSTM model**"
      ],
      "metadata": {
        "id": "EsCLCco8lMCi"
      }
    },
    {
      "cell_type": "code",
      "execution_count": null,
      "metadata": {
        "id": "V4zmaJorlKfK"
      },
      "outputs": [],
      "source": [
        "from sklearn.model_selection import train_test_split,KFold,cross_val_score\n",
        "from keras.models import Sequential\n",
        "from keras.layers import Activation, Dense,Flatten,LSTM,Dropout\n",
        "import tensorflow as tf\n",
        "\n",
        "# Define per-fold score containers <-- these are new\n",
        "acc_per_fold = []\n",
        "loss_per_fold = []\n",
        "\n",
        "# convert an array of values into a dataset matrix\n",
        "def create_dataset(dataset, look_back=18):\n",
        "\tdataX, dataY = [], []\n",
        "\tfor i in range(len(dataset)-look_back-1):\n",
        "\t\ta = dataset[i:(i+look_back), 0]\n",
        "\t\tdataX.append(a)\n",
        "\t\tdataY.append(dataset[i + look_back, 0])\n",
        "\treturn np.array(dataX), np.array(dataY)\n",
        " \n",
        "# reshape into X=t and Y=t+1\n",
        "look_back = 18\n",
        "trainX, trainY = create_dataset(train, look_back)\n",
        "testX, testY = create_dataset(test, look_back)\n",
        "\n",
        "# reshape input to be [samples, time steps, features]\n",
        "trainX = np.reshape(trainX, (trainX.shape[0], 1, trainX.shape[1]))\n",
        "testX = np.reshape(testX, (testX.shape[0], 1, testX.shape[1]))\n",
        "\n",
        "# Merge inputs and targets\n",
        "inputs = np.concatenate((trainX, testX), axis=0)\n",
        "targets = np.concatenate((trainY, testY), axis=0)\n",
        "\n",
        "# Define the K-fold Cross Validator\n",
        "kfold = KFold(5, shuffle=True)\n",
        "\n",
        "# K-fold Cross Validation model evaluation\n",
        "fold_no = 1\n",
        "for train, test in kfold.split(inputs, targets):\n",
        "  # create and fit the LSTM network\n",
        "  modellstm = Sequential()\n",
        "  modellstm.add(LSTM(11,return_sequences=True, input_shape=([None, look_back])))\n",
        "  modellstm.add(Dropout(0.17))\n",
        "  modellstm.add(LSTM(units=11, return_sequences=False))\n",
        "  modellstm.add(Dropout(0.17))\n",
        "  modellstm.add(Dense(1))\n",
        "  modellstm.compile(loss='mean_squared_error', optimizer=tf.keras.optimizers.SGD(learning_rate=2e-4, momentum=0.9),metrics=[\"mae\"])\n",
        "      \n",
        "  # Generate a print\n",
        "  print('------------------------------------------------------------------------')\n",
        "  print(f'Training for fold {fold_no} ...')\n",
        "  # Fit data to model\n",
        "  history = modellstm.fit(inputs[train], targets[train],\n",
        "                batch_size=4,\n",
        "                epochs=100,\n",
        "                verbose=0)\n",
        "\n",
        "  # Generate generalization metrics\n",
        "  scores = modellstm.evaluate(inputs[test], targets[test], verbose=0)\n",
        "  print(f'Score for fold {fold_no}: {modellstm.metrics_names[0]} of {scores[0]}; {modellstm.metrics_names[1]} of {scores[1]*100}%')\n",
        "  acc_per_fold.append(scores[1] * 100)\n",
        "  loss_per_fold.append(scores[0])\n",
        "\n",
        "  # Increase fold number\n",
        "  fold_no = fold_no + 1"
      ]
    }
  ]
}