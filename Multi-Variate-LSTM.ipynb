{
  "nbformat": 4,
  "nbformat_minor": 0,
  "metadata": {
    "colab": {
      "provenance": [],
      "authorship_tag": "ABX9TyNxmpSWgTmWbHsbWo3YI9jQ",
      "include_colab_link": true
    },
    "kernelspec": {
      "name": "python3",
      "display_name": "Python 3"
    },
    "language_info": {
      "name": "python"
    }
  },
  "cells": [
    {
      "cell_type": "markdown",
      "metadata": {
        "id": "view-in-github",
        "colab_type": "text"
      },
      "source": [
        "<a href=\"https://colab.research.google.com/github/raminbazr/Python/blob/main/Multi-Variate-LSTM.ipynb\" target=\"_parent\"><img src=\"https://colab.research.google.com/assets/colab-badge.svg\" alt=\"Open In Colab\"/></a>"
      ]
    },
    {
      "cell_type": "markdown",
      "source": [
        "# **Multi-Variate LSTM**"
      ],
      "metadata": {
        "id": "XULpvEZjG8zB"
      }
    },
    {
      "cell_type": "code",
      "source": [
        "from sklearn.metrics import mean_squared_error\n",
        "import tensorflow as tf\n",
        "from tensorflow.keras.layers import Embedding, Dense, LSTM\n",
        "from tensorflow.keras.losses import BinaryCrossentropy\n",
        "from tensorflow.keras.models import Sequential\n",
        "from tensorflow.keras.optimizers import Adam\n",
        "from tensorflow.keras.preprocessing.sequence import pad_sequences\n",
        "from tensorflow import keras\n",
        "from matplotlib import pyplot\n",
        "from keras.layers import Dropout\n",
        "from keras import regularizers\n",
        "from keras.callbacks import EarlyStopping\n",
        "import math,time\n",
        "from sklearn.preprocessing import StandardScaler\n",
        "\n",
        "#df = df.drop([\"Torque\"], axis =1)\n",
        "#normalize the dataset\n",
        "scaler = StandardScaler()\n",
        "df = scaler.fit_transform(df)\n",
        "\n",
        "\n",
        "n_future =1\n",
        "look_back=1\n",
        "trainX = []\n",
        "trainY = []\n",
        "# convert an array of values into a dataset matrix\n",
        "for i in range(look_back,len(df)-n_future +1):\n",
        "\ttrainX.append(df[i-look_back: i,0:df.shape[1]])\n",
        "\ttrainY.append(df[i+n_future-1:i+n_future,4])\n",
        "\n",
        "trainX , trainY= np.array(trainX),np.array(trainY)\n",
        " \n",
        "# create and fit the LSTM network\n",
        "modellstmROP = Sequential()\n",
        "modellstmROP.add(LSTM(11,return_sequences=True, input_shape=(trainX.shape[1],trainX.shape[2])))\n",
        "modellstmROP.add(Dropout(0.17))\n",
        "modellstmROP.add(LSTM(units=11, return_sequences=False))\n",
        "modellstmROP.add(Dropout(0.17))\n",
        "modellstmROP.add(Dense(1))\n",
        "\n",
        "lr_schedule = tf.keras.callbacks.LearningRateScheduler(\n",
        "    lambda epoch: 1e-8 * 10**(epoch / 20))\n",
        "optimizer = tf.keras.optimizers.SGD(learning_rate=1e-8, momentum=0.9)\n",
        "\n",
        "modellstmROP.compile(loss='mean_squared_error', optimizer='adam')\n",
        "history=modellstmROP.fit(trainX, trainY, epochs=100, batch_size=4, verbose=2,callbacks=[lr_schedule])"
      ],
      "metadata": {
        "id": "Dl-P3qKFHAjw"
      },
      "execution_count": null,
      "outputs": []
    },
    {
      "cell_type": "code",
      "source": [
        "print('trainX shape == {}.'.format(trainX.shape))\n",
        "print('trainY shape == {}.'.format(trainY.shape))"
      ],
      "metadata": {
        "id": "zHTEv94bHDcA"
      },
      "execution_count": null,
      "outputs": []
    },
    {
      "cell_type": "code",
      "source": [
        "plt.semilogx(history.history[\"lr\"], history.history[\"loss\"])"
      ],
      "metadata": {
        "id": "WC0HrwlxHFII"
      },
      "execution_count": null,
      "outputs": []
    },
    {
      "cell_type": "code",
      "source": [
        "train = np.array (train)\n",
        "test = np.array (test)"
      ],
      "metadata": {
        "id": "SxQnH-CdHGxh"
      },
      "execution_count": null,
      "outputs": []
    },
    {
      "cell_type": "code",
      "source": [
        "# by above plot which is for learning rate , we get learning rate= 1e-4 because in this rate we have less changing\n",
        "from sklearn.metrics import mean_squared_error\n",
        "import tensorflow as tf\n",
        "from tensorflow.keras.layers import Embedding, Dense, LSTM\n",
        "from tensorflow.keras.losses import BinaryCrossentropy\n",
        "from tensorflow.keras.models import Sequential\n",
        "from tensorflow.keras.optimizers import Adam\n",
        "from tensorflow.keras.preprocessing.sequence import pad_sequences\n",
        "from tensorflow import keras\n",
        "from matplotlib import pyplot\n",
        "from keras.layers import Dropout\n",
        "from keras import regularizers\n",
        "from keras.callbacks import EarlyStopping\n",
        "import math,time\n",
        "from sklearn.preprocessing import StandardScaler\n",
        "from tensorflow.keras.callbacks import ModelCheckpoint\n",
        "\n",
        "\n",
        "n_future =1\n",
        "look_back=1\n",
        "trainX = []\n",
        "trainY = []\n",
        "# convert an array of values into a dataset matrix\n",
        "for i in range(look_back,len(train)-n_future +1):\n",
        "\ttrainX.append(train[i-look_back: i,0:train.shape[0]])\n",
        "\ttrainY.append(train[i+n_future-1:i+n_future,4])\n",
        "\n",
        "trainX , trainY= np.array(trainX),np.array(trainY)\n",
        "\n",
        "# create and fit the LSTM network\n",
        "modellstmROP = Sequential()\n",
        "modellstmROP.add(LSTM(11,return_sequences=True, input_shape=(1,15)))\n",
        "modellstmROP.add(Dropout(0.17))\n",
        "modellstmROP.add(LSTM(units=11, return_sequences=False))\n",
        "modellstmROP.add(Dropout(0.17))\n",
        "modellstmROP.add(Dense(1))\n",
        "\n",
        "\n",
        "modellstmROP.compile(loss='mean_squared_error', optimizer=tf.keras.optimizers.SGD(learning_rate=1e-3, momentum=0.9),metrics=[\"mae\"])\n",
        "\n",
        "history=modellstmROP.fit(trainX, trainY, epochs=100, batch_size=4, validation_split = 0.1,verbose=0)"
      ],
      "metadata": {
        "id": "GKYqfwm2HJHo"
      },
      "execution_count": null,
      "outputs": []
    },
    {
      "cell_type": "code",
      "source": [
        "# convert an array of values into a dataset matrix\n",
        "testX = []\n",
        "testY = []\n",
        "for i in range(look_back,len(test)-n_future +1):\n",
        "\ttestX.append(test[i-look_back: i,0:test.shape[1]])\n",
        "\ttestY.append(test[i+n_future-1:i+n_future,3])\n",
        " \n",
        "testX , testY= np.array(testX),np.array(testY)"
      ],
      "metadata": {
        "id": "6tNKbBd2HLpo"
      },
      "execution_count": null,
      "outputs": []
    },
    {
      "cell_type": "code",
      "source": [
        "print(trainX.shape)\n",
        "print(testX.shape)\n",
        "print(trainY.shape)\n",
        "print(testY.shape)"
      ],
      "metadata": {
        "id": "8yH2Rz8YHOgA"
      },
      "execution_count": null,
      "outputs": []
    },
    {
      "cell_type": "code",
      "source": [
        "print('ROP STD :',np.std(df[4]))\n",
        "print('ROP mean:',np.mean(df[4]))\n",
        "print('Torque STD :',np.std(df[1]))\n",
        "print('Torque mean:',np.mean(df[1]))"
      ],
      "metadata": {
        "id": "Qm2pCGU5HQdY"
      },
      "execution_count": null,
      "outputs": []
    },
    {
      "cell_type": "code",
      "source": [
        "import matplotlib.image  as mpimg\n",
        "import matplotlib.pyplot as plt\n",
        "\n",
        "#-----------------------------------------------------------\n",
        "# Retrieve a list of list results on training and test data\n",
        "# sets for each training epoch\n",
        "#-----------------------------------------------------------\n",
        "mae=history.history['mae']\n",
        "loss=history.history['loss']\n",
        "\n",
        "epochs=range(len(loss)) # Get number of epochs\n",
        "\n",
        "#------------------------------------------------\n",
        "# Plot MAE and Loss\n",
        "#------------------------------------------------\n",
        "plt.plot(epochs, mae, 'r')\n",
        "plt.plot(epochs, loss, 'b')\n",
        "plt.title('MAE and Loss')\n",
        "plt.xlabel(\"Epochs\")\n",
        "plt.ylabel(\"Accuracy\")\n",
        "plt.legend([\"MAE\", \"Loss\"])\n",
        "\n",
        "plt.figure()\n",
        "\n",
        "epochs_zoom = epochs[50:]\n",
        "mae_zoom = mae[50:]\n",
        "loss_zoom = loss[50:]\n",
        "\n",
        "#------------------------------------------------\n",
        "# Plot Zoomed MAE and Loss\n",
        "#------------------------------------------------\n",
        "plt.plot(epochs_zoom, mae_zoom, 'r')\n",
        "plt.plot(epochs_zoom, loss_zoom, 'b')\n",
        "plt.title('MAE and Loss')\n",
        "plt.xlabel(\"Epochs\")\n",
        "plt.ylabel(\"Accuracy\")\n",
        "plt.legend([\"MAE\", \"Loss\"])\n",
        "\n",
        "plt.figure()"
      ],
      "metadata": {
        "id": "nB8Brj7yHRIR"
      },
      "execution_count": null,
      "outputs": []
    },
    {
      "cell_type": "code",
      "source": [
        "# make predictions\n",
        "trainPredict = modellstmROP.predict(trainX)\n",
        "testPredict = modellstmROP.predict(testX)\n",
        "\n",
        "# calculate root mean squared error\n",
        "trainScore = math.sqrt(mean_squared_error(trainY, trainPredict))\n",
        "print('Train Score: %.2f RMSE' % (trainScore))\n",
        "testScore = math.sqrt(mean_squared_error(testY, testPredict))\n",
        "print('Test Score: %.2f RMSE' % (testScore))\n",
        "\n",
        "\n",
        "# shift train predictions for plotting\n",
        "trainPredictPlot = np.repeat(trainPredict,14, axis=-1)\n",
        "testPredictPlot=np.repeat(testPredict,14, axis=-1)\n",
        "# plot baseline and predictions\n",
        "#plt.plot(scaler.inverse_transform(df))\n",
        "plt.plot(trainPredictPlot)\n",
        "plt.plot(testPredictPlot)\n",
        "plt.show()"
      ],
      "metadata": {
        "id": "su8CshrtHUdg"
      },
      "execution_count": null,
      "outputs": []
    },
    {
      "cell_type": "code",
      "source": [
        "plt.plot(trainY, color ='b')\n",
        "plt.plot(trainPredict, color = 'r')"
      ],
      "metadata": {
        "id": "tgcw8Pf9HXWg"
      },
      "execution_count": null,
      "outputs": []
    },
    {
      "cell_type": "code",
      "source": [
        "plt.plot(testY, color ='b')\n",
        "plt.plot(testPredict, color = 'r')"
      ],
      "metadata": {
        "id": "wyfTR1nmHbNv"
      },
      "execution_count": null,
      "outputs": []
    },
    {
      "cell_type": "code",
      "source": [
        "(testPredict*np.std(df[4]))"
      ],
      "metadata": {
        "id": "6ziYgB0NHc-3"
      },
      "execution_count": null,
      "outputs": []
    },
    {
      "cell_type": "code",
      "source": [
        "from sklearn.metrics import mean_squared_error\n",
        "rmse = np.sqrt(mean_squared_error(testY, testPredict))\n",
        "print('RMSE: %.3f' % rmse)"
      ],
      "metadata": {
        "id": "YoSvXRbwHfmP"
      },
      "execution_count": null,
      "outputs": []
    },
    {
      "cell_type": "code",
      "source": [
        "NRMSE = (rmse/(y_test.max()-y_test.min()))*100\n",
        "NRMSE"
      ],
      "metadata": {
        "id": "47_3Tp_uHhIX"
      },
      "execution_count": null,
      "outputs": []
    },
    {
      "cell_type": "code",
      "source": [
        "import tensorflow\n",
        "tensorflow.keras.metrics.mean_absolute_error(testY, testPredict)"
      ],
      "metadata": {
        "id": "8wbNBUg3HiqH"
      },
      "execution_count": null,
      "outputs": []
    },
    {
      "cell_type": "code",
      "source": [
        "from sklearn.metrics import mean_absolute_percentage_error\n",
        "mean_absolute_percentage_error(testY, testPredict)*100"
      ],
      "metadata": {
        "id": "NrTOT2RHHkff"
      },
      "execution_count": null,
      "outputs": []
    },
    {
      "cell_type": "code",
      "source": [
        "from sklearn.metrics import mean_absolute_error\n",
        "mae = mean_absolute_error(testY, testPredict)\n",
        "print(mae)"
      ],
      "metadata": {
        "id": "L9AdVbFMHmPO"
      },
      "execution_count": null,
      "outputs": []
    },
    {
      "cell_type": "code",
      "source": [
        "from sklearn.metrics import r2_score\n",
        "\n",
        "r2_score(testY, testPredict)"
      ],
      "metadata": {
        "id": "gi6M8FSRHoHm"
      },
      "execution_count": null,
      "outputs": []
    },
    {
      "cell_type": "code",
      "source": [
        "x_ax = range(len(testPredict))\n",
        "plt.scatter(x_ax, testY, s=5, color=\"blue\", label=\"original\")\n",
        "plt.plot(x_ax, testPredict, lw=0.8, color=\"red\", label=\"predicted\")\n",
        "plt.legend()\n",
        "plt.show()"
      ],
      "metadata": {
        "id": "nKPXmfADHpu3"
      },
      "execution_count": null,
      "outputs": []
    },
    {
      "cell_type": "code",
      "source": [],
      "metadata": {
        "id": "NVR7jsccHrMn"
      },
      "execution_count": null,
      "outputs": []
    }
  ]
}