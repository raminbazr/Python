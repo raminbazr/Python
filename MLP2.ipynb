{
  "nbformat": 4,
  "nbformat_minor": 0,
  "metadata": {
    "colab": {
      "provenance": [],
      "authorship_tag": "ABX9TyNB+jume5E9vmgCPz+P36o0",
      "include_colab_link": true
    },
    "kernelspec": {
      "name": "python3",
      "display_name": "Python 3"
    },
    "language_info": {
      "name": "python"
    }
  },
  "cells": [
    {
      "cell_type": "markdown",
      "metadata": {
        "id": "view-in-github",
        "colab_type": "text"
      },
      "source": [
        "<a href=\"https://colab.research.google.com/github/raminbazr/Python/blob/main/MLP2.ipynb\" target=\"_parent\"><img src=\"https://colab.research.google.com/assets/colab-badge.svg\" alt=\"Open In Colab\"/></a>"
      ]
    },
    {
      "cell_type": "code",
      "execution_count": null,
      "metadata": {
        "id": "bnxM1C4xF9KD"
      },
      "outputs": [],
      "source": [
        "# mlp for regression by Function API\n",
        "from numpy import sqrt\n",
        "from pandas import read_csv\n",
        "from sklearn.model_selection import train_test_split\n",
        "from tensorflow.keras import Sequential\n",
        "from tensorflow.keras.layers import Dense\n",
        "import tensorflow\n",
        "from tensorflow import keras\n",
        "from matplotlib import pyplot\n",
        "from keras.layers import Dropout\n",
        "from tensorflow.keras import regularizers\n",
        "\n",
        "# determine the number of input features\n",
        "n_features = X_train.shape[1]\n",
        "# define model\n",
        "layer = tensorflow.keras.layers.Dropout(.2, input_shape=(2,))\n",
        "\n",
        "input= keras.layers.Input(n_features)\n",
        "hidden1= keras.layers.Dense(15,activation= 'tanh',kernel_regularizer=regularizers.l2(0.001))(input)\n",
        "hidden2=keras.layers.Dense(11,activation= 'tanh',kernel_regularizer=regularizers.l2(0.001))(hidden1)\n",
        "#concat= keras.layers.concatenate([input, hidden2])\n",
        "hidden3=keras.layers.Dense(50,activation= 'tanh',kernel_regularizer=regularizers.l2(0.001))(hidden2)\n",
        "output= keras.layers.Dense(1)(hidden3)\n",
        "model1= keras.models.Model(inputs=[input],outputs=[output])"
      ]
    },
    {
      "cell_type": "code",
      "source": [
        "model1.summary()"
      ],
      "metadata": {
        "id": "hRjFI-3aGBZy"
      },
      "execution_count": null,
      "outputs": []
    },
    {
      "cell_type": "code",
      "source": [
        "model1.compile(loss='mean_squared_error', optimizer=keras.optimizers.SGD(lr=0.01),metrics=['mae'])"
      ],
      "metadata": {
        "id": "7ufdY67YGDRJ"
      },
      "execution_count": null,
      "outputs": []
    },
    {
      "cell_type": "code",
      "source": [
        "model1_history= model1.fit(X_train,y_train,epochs=250,validation_data=(X_test,y_test))"
      ],
      "metadata": {
        "id": "F0AsjR6GGFSh"
      },
      "execution_count": null,
      "outputs": []
    },
    {
      "cell_type": "code",
      "source": [
        "mae_test= model1.evaluate(X_test,y_test)"
      ],
      "metadata": {
        "id": "8Ka8jYi4GHsB"
      },
      "execution_count": null,
      "outputs": []
    },
    {
      "cell_type": "code",
      "source": [
        "model1_history.history"
      ],
      "metadata": {
        "id": "9HZ2GLlWGJSx"
      },
      "execution_count": null,
      "outputs": []
    },
    {
      "cell_type": "code",
      "source": [
        "pd.DataFrame(model1_history.history).plot(figsize=(8,5))\n",
        "plt.grid(True)\n",
        "#plt.gca().set_ylim(0,1)\n",
        "plt.show()"
      ],
      "metadata": {
        "id": "Ur66QNlPGK_Z"
      },
      "execution_count": null,
      "outputs": []
    },
    {
      "cell_type": "code",
      "source": [
        "import pydot\n",
        "tensorflow.keras.utils.plot_model(model1)"
      ],
      "metadata": {
        "id": "oynGl9DiGNLJ"
      },
      "execution_count": null,
      "outputs": []
    },
    {
      "cell_type": "code",
      "source": [
        "model1.summary()"
      ],
      "metadata": {
        "id": "qzrQ5DlFGPQB"
      },
      "execution_count": null,
      "outputs": []
    },
    {
      "cell_type": "code",
      "source": [
        "y_pred = model1.predict(X_test)\n",
        "y_pred[:5]"
      ],
      "metadata": {
        "id": "cBZ-SdM3GSKA"
      },
      "execution_count": null,
      "outputs": []
    },
    {
      "cell_type": "code",
      "source": [
        "import tensorflow\n",
        "tensorflow.keras.metrics.mean_absolute_error(\n",
        "    y_test, y_pred\n",
        ")"
      ],
      "metadata": {
        "id": "0DKMzbHjGT-w"
      },
      "execution_count": null,
      "outputs": []
    },
    {
      "cell_type": "code",
      "source": [
        "from sklearn.metrics import r2_score\n",
        "\n",
        "r2_score(y_test, y_pred)"
      ],
      "metadata": {
        "id": "DNQVWgNHGVyg"
      },
      "execution_count": null,
      "outputs": []
    },
    {
      "cell_type": "code",
      "source": [
        "from sklearn.metrics import mean_absolute_error\n",
        "mape = mean_absolute_error(y_test, y_pred)*100\n",
        "print(mape)"
      ],
      "metadata": {
        "id": "I7kt7YFFGYeI"
      },
      "execution_count": null,
      "outputs": []
    },
    {
      "cell_type": "code",
      "source": [
        "input=[1,1,1, 0.00017,0.027,1,0,0.5,0.386,0.026,0.0119,0.33,0.83,0.48]\n",
        "input = pd.DataFrame(input)\n",
        "input=input.T\n",
        "model1.predict(input)"
      ],
      "metadata": {
        "id": "mYBneFulGaKY"
      },
      "execution_count": null,
      "outputs": []
    }
  ]
}