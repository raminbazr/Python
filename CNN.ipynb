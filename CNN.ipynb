{
  "nbformat": 4,
  "nbformat_minor": 0,
  "metadata": {
    "colab": {
      "provenance": [],
      "authorship_tag": "ABX9TyPQA0JtmXXq8QnA/0kc9MOX",
      "include_colab_link": true
    },
    "kernelspec": {
      "name": "python3",
      "display_name": "Python 3"
    },
    "language_info": {
      "name": "python"
    }
  },
  "cells": [
    {
      "cell_type": "markdown",
      "metadata": {
        "id": "view-in-github",
        "colab_type": "text"
      },
      "source": [
        "<a href=\"https://colab.research.google.com/github/raminbazr/Python/blob/main/CNN.ipynb\" target=\"_parent\"><img src=\"https://colab.research.google.com/assets/colab-badge.svg\" alt=\"Open In Colab\"/></a>"
      ]
    },
    {
      "cell_type": "markdown",
      "source": [
        "# **CNN**"
      ],
      "metadata": {
        "id": "MN_irpeNIFGQ"
      }
    },
    {
      "cell_type": "code",
      "execution_count": null,
      "metadata": {
        "id": "hiem5NuWICZl"
      },
      "outputs": [],
      "source": [
        "from keras.models import Sequential\n",
        "from keras.layers import Dense, Conv1D, Flatten\n",
        "from sklearn.model_selection import train_test_split\n",
        "from sklearn.metrics import mean_squared_error\n",
        "import matplotlib.pyplot as plt\n",
        "from keras.layers import Dropout\n",
        "\n",
        "n_features = X_train.shape[1]\n",
        "model = Sequential()\n",
        "model.add(Conv1D(filters=4,kernel_size=2, activation=\"elu\", input_shape=(14,1)))\n",
        "model.add(Flatten())\n",
        "model.add(Dense(10, activation=\"elu\"))\n",
        "#model.add(Dropout(0.17))\n",
        "model.add(Dense(5, activation=\"elu\"))\n",
        "model.add(Dense(1))\n",
        "model.compile(loss=\"mse\", optimizer=\"adam\")\n",
        "model.summary()\n",
        "model.fit(X_train, y_train, batch_size=12,epochs=200, verbose=0)\n",
        "\n",
        "ypred = model.predict(X_test)\n",
        "print(model.evaluate(X_train, y_train))\n",
        "print(\"MSE: %.4f\" % mean_squared_error(y_test, ypred))\n",
        "\n",
        "x_ax = range(len(ypred))\n",
        "plt.scatter(x_ax, y_test, s=5, color=\"blue\", label=\"original\")\n",
        "plt.plot(x_ax, ypred, lw=0.8, color=\"red\", label=\"predicted\")\n",
        "plt.legend()\n",
        "plt.show()"
      ]
    },
    {
      "cell_type": "code",
      "source": [
        "x_ax = range(len(ypred))\n",
        "plt.scatter(x_ax, y_test1, s=5, color=\"blue\", label=\"original\")\n",
        "plt.plot(x_ax, ypred1, lw=0.8, color=\"red\", label=\"predicted\")\n",
        "plt.legend()\n",
        "plt.show()"
      ],
      "metadata": {
        "id": "ui8g4h1oIHRG"
      },
      "execution_count": null,
      "outputs": []
    },
    {
      "cell_type": "code",
      "source": [
        "import tensorflow\n",
        "mae=tensorflow.keras.metrics.mean_absolute_error(\n",
        "    y_test, ypred)\n",
        "print(mae)\n",
        "#rangeROPC = 21.1"
      ],
      "metadata": {
        "id": "jtyxu1qvIJF-"
      },
      "execution_count": null,
      "outputs": []
    },
    {
      "cell_type": "code",
      "source": [
        "from sklearn.metrics import mean_squared_error\n",
        "mse = mean_squared_error (y_test, ypred)\n",
        "mse"
      ],
      "metadata": {
        "id": "1LaQmIwdIKwn"
      },
      "execution_count": null,
      "outputs": []
    },
    {
      "cell_type": "code",
      "source": [
        "rmse = np.sqrt (mse)\n",
        "rmse"
      ],
      "metadata": {
        "id": "7OwcLjxTIMQm"
      },
      "execution_count": null,
      "outputs": []
    },
    {
      "cell_type": "code",
      "source": [
        "NRMSE = (rmse/(y_test.max()-y_test.min()))*100\n",
        "NRMSE"
      ],
      "metadata": {
        "id": "K6oOuL6PIN0G"
      },
      "execution_count": null,
      "outputs": []
    },
    {
      "cell_type": "code",
      "source": [
        "from sklearn.metrics import mean_absolute_error\n",
        "mae = mean_absolute_error( y_test, ypred)\n",
        "mae"
      ],
      "metadata": {
        "id": "Wc0nJMpqIPwG"
      },
      "execution_count": null,
      "outputs": []
    },
    {
      "cell_type": "code",
      "source": [
        "NMAE = (mae/(y_test.max()-y_test.min()))*100\n",
        "NMAE"
      ],
      "metadata": {
        "id": "I46VF3cIIRN2"
      },
      "execution_count": null,
      "outputs": []
    },
    {
      "cell_type": "code",
      "source": [
        "ypred1= np.reshape(ypred, (-1,1))\n",
        "ypred1=scaler_y.inverse_transform(ypred1)"
      ],
      "metadata": {
        "id": "wtQZ5wKMIS0-"
      },
      "execution_count": null,
      "outputs": []
    },
    {
      "cell_type": "code",
      "source": [
        "from sklearn.metrics import mean_absolute_percentage_error\n",
        "mean_absolute_percentage_error( y_test1, ypred1)*100"
      ],
      "metadata": {
        "id": "aY3uV8NFIUxe"
      },
      "execution_count": null,
      "outputs": []
    },
    {
      "cell_type": "code",
      "source": [
        "from sklearn.metrics import r2_score\n",
        "r2_score( y_test, ypred)"
      ],
      "metadata": {
        "id": "q7AAU9QBIXY2"
      },
      "execution_count": null,
      "outputs": []
    }
  ]
}